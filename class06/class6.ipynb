{
 "cells": [
  {
   "cell_type": "markdown",
   "metadata": {},
   "source": [
    "# If, else, elif\n",
    "'''\n",
    "syntax: if logic_true\n",
    "        block of code run\n",
    "        else false block\n",
    "'''\n",
    "# Comprehensive style\n",
    "'''\n",
    "syntax: block of code if logic_true else false block\n",
    "'''"
   ]
  },
  {
   "cell_type": "code",
   "execution_count": 41,
   "metadata": {},
   "outputs": [
    {
     "name": "stdout",
     "output_type": "stream",
     "text": [
      "Excelent!\n"
     ]
    }
   ],
   "source": [
    "# for true scenario\n",
    "if True:\n",
    "    print('Excelent!')\n",
    "else:\n",
    "    print('Betterluck next time.')"
   ]
  },
  {
   "cell_type": "code",
   "execution_count": 42,
   "metadata": {},
   "outputs": [
    {
     "name": "stdout",
     "output_type": "stream",
     "text": [
      "Betterluck next time.\n"
     ]
    }
   ],
   "source": [
    "# for true scenario\n",
    "if False:\n",
    "    print('Excelent!')\n",
    "else:\n",
    "    print('Betterluck next time.')"
   ]
  },
  {
   "cell_type": "code",
   "execution_count": 43,
   "metadata": {},
   "outputs": [
    {
     "name": "stdout",
     "output_type": "stream",
     "text": [
      "Excelent!\n"
     ]
    }
   ],
   "source": [
    "# comprehensive for true scenario\n",
    "#    if block      |if condition|else condition|  else condition\n",
    "print('Excelent!')   if True      else            print('Betterluck next time.')"
   ]
  },
  {
   "cell_type": "code",
   "execution_count": 44,
   "metadata": {},
   "outputs": [
    {
     "name": "stdout",
     "output_type": "stream",
     "text": [
      "Betterluck next time.\n"
     ]
    }
   ],
   "source": [
    "# comprehensive for false scenario\n",
    "#    if block      |if condition|else condition|  else condition\n",
    "print('Excelent!')   if False      else            print('Betterluck next time.')"
   ]
  },
  {
   "cell_type": "code",
   "execution_count": 45,
   "metadata": {},
   "outputs": [
    {
     "name": "stdout",
     "output_type": "stream",
     "text": [
      "If statement\n"
     ]
    }
   ],
   "source": [
    "if True:\n",
    "    print('If statement')\n",
    "elif False:\n",
    "    print('elif statement')\n",
    "else:\n",
    "    print('else statement')"
   ]
  },
  {
   "cell_type": "code",
   "execution_count": 46,
   "metadata": {},
   "outputs": [
    {
     "name": "stdout",
     "output_type": "stream",
     "text": [
      "elif statement\n"
     ]
    }
   ],
   "source": [
    "if False:\n",
    "    print('If statement')\n",
    "elif True:\n",
    "    print('elif statement')\n",
    "else:\n",
    "    print('else statement')"
   ]
  },
  {
   "cell_type": "code",
   "execution_count": 47,
   "metadata": {},
   "outputs": [
    {
     "name": "stdout",
     "output_type": "stream",
     "text": [
      "else statement\n"
     ]
    }
   ],
   "source": [
    "if False:\n",
    "    print('If statement')\n",
    "elif False:\n",
    "    print('elif statement')\n",
    "else:\n",
    "    print('else statement')"
   ]
  },
  {
   "cell_type": "markdown",
   "metadata": {},
   "source": [
    "# Union Type"
   ]
  },
  {
   "cell_type": "code",
   "execution_count": 48,
   "metadata": {},
   "outputs": [
    {
     "name": "stdout",
     "output_type": "stream",
     "text": [
      "7.0\n"
     ]
    }
   ],
   "source": [
    "from typing import Union\n",
    "\n",
    "grade : Union[int, float] = 7.0\n",
    "\n",
    "print(grade)"
   ]
  },
  {
   "cell_type": "markdown",
   "metadata": {},
   "source": [
    "# if, elif and else."
   ]
  },
  {
   "cell_type": "code",
   "execution_count": 113,
   "metadata": {},
   "outputs": [
    {
     "name": "stdout",
     "output_type": "stream",
     "text": [
      "Your percentage is 65.0 and your grade is: \t B\n"
     ]
    }
   ],
   "source": [
    "from typing import Union\n",
    "per : Union [int, float] = float(input(\"Please enter your percentage\\t\"))\n",
    "\n",
    "grade : Union [str, None] = None\n",
    "\n",
    "if per >= 80:\n",
    "    grade = \"A+\"\n",
    "elif per >= 70:\n",
    "    grade = \"A\"\n",
    "elif per >= 60:\n",
    "    grade = \"B\"\n",
    "elif per >= 50:\n",
    "    grade = \"C\"\n",
    "elif per >= 40:\n",
    "    grade = \"D\"\n",
    "elif per >= 33:\n",
    "    grade = \"E\"\n",
    "else:\n",
    "    grade = \"Fail\"\n",
    "\n",
    "print(f'Your percentage is {per} and your grade is: \\t {grade}')"
   ]
  },
  {
   "cell_type": "markdown",
   "metadata": {},
   "source": [
    "# Logical error"
   ]
  },
  {
   "cell_type": "code",
   "execution_count": null,
   "metadata": {},
   "outputs": [
    {
     "name": "stdout",
     "output_type": "stream",
     "text": [
      "Your percentage is 90.0 and your grade is: \t Fail\n"
     ]
    }
   ],
   "source": [
    "from typing import Union\n",
    "per : Union [int, float] = float(input(\"Please enter your percentage\\t\"))\n",
    "\n",
    "grade : Union [str, None] = None\n",
    "\n",
    "if per >= 0:\n",
    "    grade = \"Fail\"\n",
    "elif per >= 33:\n",
    "    grade = \"E\"\n",
    "elif per >= 40:\n",
    "    grade = \"D\"\n",
    "elif per >= 50:\n",
    "    grade = \"C\"\n",
    "elif per >= 60:\n",
    "    grade = \"B\"\n",
    "elif per >= 70:\n",
    "    grade = \"A\"\n",
    "elif per >= 80:\n",
    "    grade = \"A+\"\n",
    "\n",
    "print(f'Your percentage is {per} and your grade is: \\t {grade}')"
   ]
  },
  {
   "cell_type": "markdown",
   "metadata": {},
   "source": [
    "# Correct Code"
   ]
  },
  {
   "cell_type": "code",
   "execution_count": null,
   "metadata": {},
   "outputs": [
    {
     "name": "stdout",
     "output_type": "stream",
     "text": [
      "Your percentage is 32.9999 and your grade is: \t Fail\n"
     ]
    }
   ],
   "source": [
    "from typing import Union\n",
    "per : Union [int, float] = float(input(\"Please enter your percentage\\t\"))\n",
    "\n",
    "grade : Union [str, None] = None\n",
    "\n",
    "if (per >= 0) and (per < 33):\n",
    "    grade = \"Fail\"\n",
    "elif (per >= 33) and (per < 40):\n",
    "    grade = \"E\"\n",
    "elif (per >= 40) and (per < 50):\n",
    "    grade = \"D\"\n",
    "elif (per >= 50) and (per < 60):\n",
    "    grade = \"C\"\n",
    "elif (per >= 60) and (per < 70):\n",
    "    grade = \"B\"\n",
    "elif (per >= 70) and (per < 80):\n",
    "    grade = \"A\"\n",
    "elif (per >= 80) and (per <= 100):\n",
    "    grade = \"A+\"\n",
    "\n",
    "\n",
    "print(f'Your percentage is {per} and your grade is: \\t {grade}')"
   ]
  },
  {
   "cell_type": "code",
   "execution_count": 55,
   "metadata": {},
   "outputs": [
    {
     "name": "stdout",
     "output_type": "stream",
     "text": [
      "23.7\n"
     ]
    }
   ],
   "source": [
    "# You can create Type Alias by assigning the data type\n",
    "from typing import Union\n",
    "\n",
    "alphanum = Union [str, int] \n",
    "\n",
    "user_id : alphanum = 23.7 # not generating error here but error will appear in py file. \n",
    "\n",
    "print(user_id)\n"
   ]
  },
  {
   "cell_type": "code",
   "execution_count": 71,
   "metadata": {},
   "outputs": [
    {
     "name": "stdout",
     "output_type": "stream",
     "text": [
      "['Fail', 'E', 'B', 'A', 'A+', 'A+', 'C']\n",
      "[25, 33.1, 66, 75, 85, 90, 55]\n"
     ]
    },
    {
     "data": {
      "text/plain": [
       "[(0, 25, 'Fail'),\n",
       " (1, 33.1, 'E'),\n",
       " (2, 66, 'B'),\n",
       " (3, 75, 'A'),\n",
       " (4, 85, 'A+'),\n",
       " (5, 90, 'A+'),\n",
       " (6, 55, 'C')]"
      ]
     },
     "execution_count": 71,
     "metadata": {},
     "output_type": "execute_result"
    }
   ],
   "source": [
    "percentages : list [int | float] = [25,33.1,66,75,85,90,55]\n",
    "grades : list [int] = [] # new variable created with blank object\n",
    "\n",
    "for per in percentages:\n",
    "    grade : str = '' # grade will create a value once any per pass through below code\n",
    "    if (per >= 0) and (per < 33):\n",
    "        grade = \"Fail\"\n",
    "    elif (per >= 33) and (per < 40):\n",
    "        grade = \"E\"\n",
    "    elif (per >= 40) and (per < 50):\n",
    "        grade = \"D\"\n",
    "    elif (per >= 50) and (per < 60):\n",
    "        grade = \"C\"\n",
    "    elif (per >= 60) and (per < 70):\n",
    "        grade = \"B\"\n",
    "    elif (per >= 70) and (per < 80):\n",
    "        grade = \"A\"\n",
    "    elif (per >= 80) and (per <= 100):\n",
    "        grade = \"A+\"\n",
    "\n",
    "    grades.append(grade) # whenever a value created in grade will be appended in grades array.\n",
    "print(grades)\n",
    "print(percentages)\n",
    "\n",
    "#list() is for veiwing the array\n",
    "# zip() is for creating tuple by combining percentages and grades\n",
    "# range() is for creating the index\n",
    "# len will be \n",
    "\n",
    "\n",
    "list(zip(list(range(len(percentages))),percentages,grades))  "
   ]
  },
  {
   "cell_type": "code",
   "execution_count": 70,
   "metadata": {},
   "outputs": [
    {
     "name": "stdout",
     "output_type": "stream",
     "text": [
      "7\n",
      "[0, 1, 2, 3, 4, 5, 6]\n"
     ]
    }
   ],
   "source": [
    "# list(range(len(percentages))) this will work like below\n",
    "print(len(percentages))\n",
    "\n",
    "# list range\n",
    "print(list(range(7)))\n"
   ]
  },
  {
   "cell_type": "code",
   "execution_count": 77,
   "metadata": {},
   "outputs": [
    {
     "data": {
      "text/plain": [
       "[(5, 90, 'A+'),\n",
       " (4, 85, 'A+'),\n",
       " (3, 75, 'A'),\n",
       " (2, 66, 'B'),\n",
       " (6, 55, 'C'),\n",
       " (1, 33.1, 'E'),\n",
       " (0, 25, 'Fail')]"
      ]
     },
     "execution_count": 77,
     "metadata": {},
     "output_type": "execute_result"
    }
   ],
   "source": [
    "database = [(0, 25, 'Fail'),\n",
    "            (1, 33.1, 'E'),\n",
    "            (2, 66, 'B'),\n",
    "            (3, 75, 'A'),\n",
    "            (4, 85, 'A+'),\n",
    "            (5, 90, 'A+'),\n",
    "            (6, 55, 'C')]\n",
    "\n",
    "# sorted(): will sort the database on the basis of index no.\n",
    "# key = lambda x:x [1]: will sort the database on the basis of index no. 1\n",
    "# reverse = True: will sort the database in decending order\n",
    "\n",
    "sorted(database, key= lambda x:x [1], reverse=True)"
   ]
  },
  {
   "cell_type": "code",
   "execution_count": 94,
   "metadata": {},
   "outputs": [
    {
     "name": "stdout",
     "output_type": "stream",
     "text": [
      "Audi\n",
      "Toyota\n",
      "BMW\n",
      "Ferrari\n"
     ]
    }
   ],
   "source": [
    "cars : list[str]= [\"audi\", \"toyota\", \"bmw\", \"ferrari\"]\n",
    "car_ct =[]\n",
    "\n",
    "for car in cars:\n",
    "    if car == 'bmw':\n",
    "        print(car.upper())\n",
    "    else:\n",
    "        print(car.title())\n",
    "    "
   ]
  },
  {
   "cell_type": "code",
   "execution_count": 89,
   "metadata": {},
   "outputs": [
    {
     "data": {
      "text/plain": [
       "['Audi', 'Toyota', 'BMW', 'Ferrari']"
      ]
     },
     "execution_count": 89,
     "metadata": {},
     "output_type": "execute_result"
    }
   ],
   "source": [
    "# list comprehensive\n",
    "\n",
    "cars : list[str]= [\"audi\", \"toyota\", \"bmw\", \"ferrari\"]\n",
    "car_ct =[]\n",
    "\n",
    "[car.upper() if car == 'bmw' else car.title() for car in cars]\n",
    "    "
   ]
  },
  {
   "cell_type": "code",
   "execution_count": 97,
   "metadata": {},
   "outputs": [
    {
     "name": "stdout",
     "output_type": "stream",
     "text": [
      "You cannot purchase mehran car.\n"
     ]
    }
   ],
   "source": [
    "# \"not in\" usage\n",
    "cars : list[str]= [\"audi\", \"toyota\", \"bmw\", \"ferrari\"]\n",
    "\n",
    "a_car = \"mehran\"\n",
    "\n",
    "if a_car not in cars:\n",
    "    print(f\"You cannot purchase {a_car} car.\")\n",
    "else:\n",
    "    print(f\"You can purchase {a_car} car.\")"
   ]
  },
  {
   "cell_type": "code",
   "execution_count": 100,
   "metadata": {},
   "outputs": [
    {
     "name": "stdout",
     "output_type": "stream",
     "text": [
      "adding pepperoni.\n",
      "adding extra cheese.\n"
     ]
    }
   ],
   "source": [
    "# you can use multiple IFs, system will check all if conditions\n",
    "\n",
    "toppings : list[str] = [\"pepperoni\",\"extra cheese\"]\n",
    "\n",
    "if \"pepperoni\" in toppings:\n",
    "    print(\"adding pepperoni.\")\n",
    "if \"olives\" in toppings:\n",
    "    print(\"adding olives.\")\n",
    "if \"extra cheese\" in toppings:\n",
    "    print(\"adding extra cheese.\")"
   ]
  },
  {
   "cell_type": "markdown",
   "metadata": {},
   "source": [
    "# Split method"
   ]
  },
  {
   "cell_type": "code",
   "execution_count": 107,
   "metadata": {},
   "outputs": [
    {
     "name": "stdout",
     "output_type": "stream",
     "text": [
      "['mushroom', ' pepperoni', ' extra cheese']\n"
     ]
    }
   ],
   "source": [
    "uinput = input('Please mention topping').split(\",\")\n",
    "print(uinput)"
   ]
  },
  {
   "cell_type": "markdown",
   "metadata": {},
   "source": [
    "# ID and PW validation system"
   ]
  },
  {
   "cell_type": "code",
   "execution_count": 112,
   "metadata": {},
   "outputs": [
    {
     "name": "stdout",
     "output_type": "stream",
     "text": [
      "OTP has been sent on phone\n",
      "Welcome admin\n"
     ]
    }
   ],
   "source": [
    "id : str = input(\"Please enter your user id:\")\n",
    "pw : str = input(\"Please enter your password:\")\n",
    "\n",
    "if id == \"admin\" and pw == \"admin\":\n",
    "    print(\"OTP has been sent on phone\")\n",
    "    otp = input(\"Please enter your OTP.\")\n",
    "    if otp == \"123\":\n",
    "        print(f\"Welcome {id}\")\n",
    "else:\n",
    "    print(\"Please input correct id and password.\")\n"
   ]
  }
 ],
 "metadata": {
  "kernelspec": {
   "display_name": "python12",
   "language": "python",
   "name": "python3"
  },
  "language_info": {
   "codemirror_mode": {
    "name": "ipython",
    "version": 3
   },
   "file_extension": ".py",
   "mimetype": "text/x-python",
   "name": "python",
   "nbconvert_exporter": "python",
   "pygments_lexer": "ipython3",
   "version": "3.12.0"
  }
 },
 "nbformat": 4,
 "nbformat_minor": 2
}
