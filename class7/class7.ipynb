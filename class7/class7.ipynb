{
 "cells": [
  {
   "cell_type": "markdown",
   "metadata": {},
   "source": [
    "# Dictionary\n",
    "* key : value (items)\n",
    "* key : replacement of index\n",
    "* value will be items"
   ]
  },
  {
   "cell_type": "code",
   "execution_count": 13,
   "metadata": {},
   "outputs": [
    {
     "name": "stdout",
     "output_type": "stream",
     "text": [
      "{0: 'Pakistan',\n",
      " 'education': 'MSCS',\n",
      " 'fname': 'Abdul Hameed',\n",
      " 'name': 'Danish Ghani'}\n",
      "Danish Ghani\n",
      "Pakistan\n"
     ]
    }
   ],
   "source": [
    "from typing import Dict,  Union, Optional\n",
    "import pprint \n",
    "\n",
    "# Created type\n",
    "\n",
    "Key = Union[str, int]\n",
    "Value = Union [str, int, float, list, dict, tuple, set] # you should not use any or else system will generate error if any un-hashable data type has been used.\n",
    "\n",
    "# Dict is based on key and its value\n",
    "\n",
    "#          key, value  Dictionary identifier is values will be in curly brackets\n",
    "data: Dict[Key, Value] = {'fname':'Abdul Hameed',\n",
    "                        'name':\"Danish Ghani\",\n",
    "                        'education':\"MSCS\",\n",
    "                         0 : 'Pakistan',\n",
    "                        # (1,2) : 'Pakistan',hashable error tuples\n",
    "                        # [1,3,3] : 'Pakistan', # hashable error list\n",
    "                        # {2,3}: 'Pakistan' # hashable error set\n",
    "                        }\n",
    "# dictionary of data will show data like an object.\n",
    "\n",
    "pprint.pprint(data)\n",
    "print(data['name']) # python will return value against key 'name'\n",
    "print(data[0]) # python will return value as Pakistan against key '0', 0 is the key not the index no.\n",
    "# print( data[(2,3)])"
   ]
  },
  {
   "cell_type": "markdown",
   "metadata": {},
   "source": [
    "# Set - Data Type"
   ]
  },
  {
   "cell_type": "code",
   "execution_count": 14,
   "metadata": {},
   "outputs": [
    {
     "name": "stdout",
     "output_type": "stream",
     "text": [
      "{1, 2, 3, 4, 5, 6}\n"
     ]
    }
   ],
   "source": [
    "# if you can add any dubplicate values or unsorted values set will sort it and remove duplicates.\n",
    "# you cannot extract any value \n",
    "\n",
    "abc : set = {1, 2 , 2 , 2 , 3 , 6 , 6 , 5  , 4 , 4}\n",
    "print(abc)"
   ]
  },
  {
   "cell_type": "code",
   "execution_count": 17,
   "metadata": {},
   "outputs": [
    {
     "name": "stdout",
     "output_type": "stream",
     "text": [
      "{0: 'Pakistan',\n",
      " 'abc': (1, 2),\n",
      " 'axy': {2, 3},\n",
      " 'education': 'MSCS',\n",
      " 'fname': 'Abdul Hameed',\n",
      " 'name': 'Danish Ghani',\n",
      " 'xyc': [1, 3, 3]}\n",
      "(1, 2)\n",
      "[1, 3, 3]\n",
      "{2, 3}\n"
     ]
    }
   ],
   "source": [
    "from typing import Dict,  Union, Optional\n",
    "import pprint \n",
    "\n",
    "# Created type\n",
    "\n",
    "Key = Union[str, int]\n",
    "Value = Union [str, int, float, list, dict, tuple, set] # you should not use any or else system will generate error if any un-hashable data type has been used.\n",
    "\n",
    "# Dict is based on key and its value\n",
    "\n",
    "#          key, value  Dictionary identifier is values will be in curly brackets\n",
    "data: Dict[Key, Value] = {'fname':'Abdul Hameed',\n",
    "                        'name':\"Danish Ghani\",\n",
    "                        'education':\"MSCS\",\n",
    "                         0 : 'Pakistan',\n",
    "                         'abc': (1,2),#  tuples can be added in value\n",
    "                         'xyc': [1,3,3], # list can be added in value\n",
    "                          'axy': {2,3}, # set can be added in value\n",
    "                         'abcd': {'a': '2', 'bcdd' : '8'} # dict can be added in value\n",
    "                        }\n",
    "# dictionary of data will show data like an object.\n",
    "\n",
    "pprint.pprint(data)\n",
    "print(data['abc']) # python will return value against key 'name'\n",
    "print(data['xyc']) \n",
    "print(data['axy'])"
   ]
  },
  {
   "cell_type": "code",
   "execution_count": 19,
   "metadata": {},
   "outputs": [
    {
     "name": "stdout",
     "output_type": "stream",
     "text": [
      "{1, 2, 3, 4}\n",
      "[1, 2, 3, 4]\n"
     ]
    }
   ],
   "source": [
    "# to change any set to list\n",
    "abc : set = {1,2,2,2,2,3,3,3,4}\n",
    "print(abc)\n",
    "fg : list[int] = list (abc)\n",
    "print(fg)"
   ]
  },
  {
   "cell_type": "code",
   "execution_count": 22,
   "metadata": {},
   "outputs": [
    {
     "name": "stdout",
     "output_type": "stream",
     "text": [
      "{'fname': 'Abdul Hameed', 'name': 'danish'}\n"
     ]
    }
   ],
   "source": [
    "# to insert keys and values in any dictionary\n",
    "\n",
    "data : Dict[Key, Value] = {}\n",
    "\n",
    "data ['fname'] = 'Abdul Hameed'\n",
    "data ['name'] = 'danish'\n",
    "\n",
    "print(data)"
   ]
  },
  {
   "cell_type": "code",
   "execution_count": null,
   "metadata": {},
   "outputs": [],
   "source": [
    "data: Dict[Key, Value] = {'fname':'Abdul Hameed',\n",
    "                        'name':\"Danish Ghani\",\n",
    "                        'education':\"MSCS\"}\n",
    "data ['fname'] ='Abdul Hameed1'# to update value in key"
   ]
  },
  {
   "cell_type": "markdown",
   "metadata": {},
   "source": [
    "# get method"
   ]
  },
  {
   "cell_type": "code",
   "execution_count": 31,
   "metadata": {},
   "outputs": [
    {
     "name": "stdout",
     "output_type": "stream",
     "text": [
      "None\n",
      "N/A\n",
      "Abdul Hameed\n"
     ]
    }
   ],
   "source": [
    "data: Dict[Key, Value] = {'fname':'Abdul Hameed',\n",
    "                        'name':\"Danish Ghani\",\n",
    "                        'education':\"MSCS\"}\n",
    "\n",
    "# print(data['Pakistan']) this will generate error\n",
    "print(data.get('Pakistan')) # this generate result with none\n",
    "#                  key    value\n",
    "print(data.get('Pakistan','N/A')) # this generate result with none\n",
    "# we dont have the key 'Pakistan' will generate\n",
    "\n",
    "print(data['fname'])"
   ]
  },
  {
   "cell_type": "code",
   "execution_count": 36,
   "metadata": {},
   "outputs": [
    {
     "name": "stdout",
     "output_type": "stream",
     "text": [
      "fname\n",
      "name\n",
      "education\n",
      "dict_keys(['fname', 'name', 'education'])\n",
      "dict_values(['Abdul Hameed', 'Danish Ghani', 'MSCS'])\n",
      "dict_items([('fname', 'Abdul Hameed'), ('name', 'Danish Ghani'), ('education', 'MSCS')])\n"
     ]
    }
   ],
   "source": [
    "data: Dict[Key, Value] = {'fname':'Abdul Hameed',\n",
    "                        'name':\"Danish Ghani\",\n",
    "                        'education':\"MSCS\"}\n",
    "for d in data:\n",
    "    print(d) # d will include all the keys of dictionary``\n",
    "print(data.keys()) # this will show all keys of data\n",
    "print(data.values())# this will show all values of data\n",
    "print(data.items()) # this will create tuples and show all tuples of data"
   ]
  },
  {
   "cell_type": "code",
   "execution_count": 44,
   "metadata": {},
   "outputs": [
    {
     "name": "stdout",
     "output_type": "stream",
     "text": [
      "fname\n",
      "name\n",
      "education\n",
      "Abdul Hameed\n",
      "Danish Ghani\n",
      "MSCS\n"
     ]
    }
   ],
   "source": [
    "data: Dict[Key, Value] = {'fname':'Abdul Hameed',\n",
    "                        'name':\"Danish Ghani\",\n",
    "                        'education':\"MSCS\"}\n",
    "for k in data.keys():\n",
    "    # print(data[k]) # this will show all values\n",
    "    print(k) # this will show all keys\n",
    "\n",
    "for v in data.values():\n",
    "    print(v) # this will show all values"
   ]
  },
  {
   "cell_type": "code",
   "execution_count": 47,
   "metadata": {},
   "outputs": [
    {
     "name": "stdout",
     "output_type": "stream",
     "text": [
      "fname Abdul Hameed\n",
      "name Danish Ghani\n",
      "education MSCS\n"
     ]
    },
    {
     "data": {
      "text/plain": [
       "{'fname': 'Abdul Hameed', 'name': 'Danish Ghani', 'education': 'MSCS'}"
      ]
     },
     "execution_count": 47,
     "metadata": {},
     "output_type": "execute_result"
    }
   ],
   "source": [
    "data: Dict[Key, Value] = {'fname':'Abdul Hameed',\n",
    "                        'name':\"Danish Ghani\",\n",
    "                        'education':\"MSCS\"}\n",
    "\n",
    "for k, v in data.items():\n",
    "    print(k,v)\n",
    "\n",
    "# comprehensive coding\n",
    "{k:v for k, v in data.items()}\n"
   ]
  },
  {
   "cell_type": "markdown",
   "metadata": {},
   "source": [
    "# Shuffling of values"
   ]
  },
  {
   "cell_type": "code",
   "execution_count": 49,
   "metadata": {},
   "outputs": [
    {
     "name": "stdout",
     "output_type": "stream",
     "text": [
      "7 9\n",
      "9 7\n"
     ]
    }
   ],
   "source": [
    "a = 7\n",
    "b = 9\n",
    "print(a,b)\n",
    "\n",
    "a , b = b, a # value of a has been saved in b and vice versa (Shuffled)\n",
    "print(a,b)"
   ]
  },
  {
   "cell_type": "code",
   "execution_count": 54,
   "metadata": {},
   "outputs": [
    {
     "name": "stdout",
     "output_type": "stream",
     "text": [
      "{'name': None, 'fname': None, 'education': None}\n",
      "{}\n",
      "{'name': None, 'fname': None, 'education': None}\n"
     ]
    }
   ],
   "source": [
    "keys : list[str] = ['name', 'fname','education']\n",
    "\n",
    "data : dict = {}\n",
    "\n",
    "print(data.fromkeys(keys)) # this is inline function and doest not impact actual variable\n",
    "\n",
    "print(data)\n",
    "\n",
    "data = data.fromkeys(keys) # this will update the variable with inline function and doest not impact actual variable\n",
    "\n",
    "print(data)"
   ]
  }
 ],
 "metadata": {
  "kernelspec": {
   "display_name": "python12",
   "language": "python",
   "name": "python3"
  },
  "language_info": {
   "codemirror_mode": {
    "name": "ipython",
    "version": 3
   },
   "file_extension": ".py",
   "mimetype": "text/x-python",
   "name": "python",
   "nbconvert_exporter": "python",
   "pygments_lexer": "ipython3",
   "version": "3.12.0"
  }
 },
 "nbformat": 4,
 "nbformat_minor": 2
}
