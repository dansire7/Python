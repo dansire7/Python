{
 "cells": [
  {
   "cell_type": "markdown",
   "metadata": {},
   "source": [
    "# Loop"
   ]
  },
  {
   "cell_type": "code",
   "execution_count": 4,
   "metadata": {},
   "outputs": [
    {
     "name": "stdout",
     "output_type": "stream",
     "text": [
      "Kamran\n",
      "Hanif\n",
      "Zia\n",
      "Asad\n"
     ]
    }
   ],
   "source": [
    "# For Loop\n",
    "names : list [str] = ['Kamran', \"Hanif\", \"Zia\", \"Asad\"]\n",
    "\n",
    "for name in names:\n",
    "    print(name)"
   ]
  },
  {
   "cell_type": "code",
   "execution_count": 13,
   "metadata": {},
   "outputs": [
    {
     "name": "stdout",
     "output_type": "stream",
     "text": [
      "Welcome Mr. Kamran.\n",
      "PIAIC Gen AI Team\n",
      "\n",
      "Welcome Mr. Hanif.\n",
      "PIAIC Gen AI Team\n",
      "\n",
      "Welcome Mr. Zia.\n",
      "PIAIC Gen AI Team\n",
      "\n",
      "Welcome Mr. Asad.\n",
      "PIAIC Gen AI Team\n",
      "\n"
     ]
    }
   ],
   "source": [
    "# For Loop\n",
    "names : list [str] = ['kamran', \"hanif\", \"zia\", \"asad\"]\n",
    "\n",
    "for name in names:\n",
    "    print(f'Welcome Mr. {name.title()}.')\n",
    "    print('PIAIC Gen AI Team\\n')"
   ]
  },
  {
   "cell_type": "code",
   "execution_count": 5,
   "metadata": {},
   "outputs": [
    {
     "name": "stdout",
     "output_type": "stream",
     "text": [
      "Kamran\n",
      "Hanif\n",
      "Zia\n",
      "Asad\n"
     ]
    }
   ],
   "source": [
    "# while Loop\n",
    "names : list [str] = ['Kamran', \"Hanif\", \"Zia\", \"Asad\"]\n",
    "\n",
    "i: int = 0\n",
    "\n",
    "while i<len(names):\n",
    "    print(names[i])\n",
    "    i += 1"
   ]
  },
  {
   "cell_type": "markdown",
   "metadata": {},
   "source": [
    "# Usage of tuples, loops, if, and, else"
   ]
  },
  {
   "cell_type": "code",
   "execution_count": 26,
   "metadata": {},
   "outputs": [
    {
     "name": "stdout",
     "output_type": "stream",
     "text": [
      "Valid user\n"
     ]
    }
   ],
   "source": [
    "id : list [tuple[str, str]] = [('kamran', '123'), \n",
    "                               ('saleem', '254'), \n",
    "                               ('salman', '789')]\n",
    "\n",
    "u_input : str = input(\"Enter your user name.\") # user will input uid\n",
    "pw_input : str = input(\"Enter your password.\") # user will input pw\n",
    "\n",
    "for row in id:  # here system will update the row with value 1 by 1\n",
    "    uid, pw = row # here element is unziped\n",
    "    if u_input == uid and pw_input == pw:\n",
    "        print('Valid user')\n",
    "        break\n",
    "else:\n",
    "    print('input valid user id and password')\n"
   ]
  },
  {
   "cell_type": "markdown",
   "metadata": {},
   "source": [
    "# Usage of Enum or enumerate"
   ]
  },
  {
   "cell_type": "code",
   "execution_count": 39,
   "metadata": {},
   "outputs": [
    {
     "data": {
      "text/plain": [
       "[(0, 'asad'), (1, 'nazir'), (2, 'shahzad'), (3, 'farhan')]"
      ]
     },
     "execution_count": 39,
     "metadata": {},
     "output_type": "execute_result"
    }
   ],
   "source": [
    "names: list [str] = ['asad', 'nazir', 'shahzad','farhan']\n",
    "\n",
    "list(enumerate(names))"
   ]
  },
  {
   "cell_type": "code",
   "execution_count": 40,
   "metadata": {},
   "outputs": [
    {
     "name": "stdout",
     "output_type": "stream",
     "text": [
      "0 asad\n",
      "1 nazir\n",
      "2 shahzad\n",
      "3 farhan\n"
     ]
    }
   ],
   "source": [
    "names: list [str] = ['asad', 'nazir', 'shahzad','farhan']\n",
    "\n",
    "for name, index in enumerate(names):\n",
    "    print(name,index)"
   ]
  },
  {
   "cell_type": "markdown",
   "metadata": {},
   "source": [
    "# Number loop (Just like slicing in string)\n",
    "* range \n",
    "* syntax : (start, end, step)"
   ]
  },
  {
   "cell_type": "code",
   "execution_count": 30,
   "metadata": {},
   "outputs": [
    {
     "name": "stdout",
     "output_type": "stream",
     "text": [
      "range(0, 10)\n"
     ]
    },
    {
     "data": {
      "text/plain": [
       "range(1, 10)"
      ]
     },
     "execution_count": 30,
     "metadata": {},
     "output_type": "execute_result"
    }
   ],
   "source": [
    "# before iteration function\n",
    "print(range(10))\n",
    "range(1,10)"
   ]
  },
  {
   "cell_type": "code",
   "execution_count": 33,
   "metadata": {},
   "outputs": [
    {
     "data": {
      "text/plain": [
       "[0, 1, 2, 3, 4, 5, 6, 7, 8, 9]"
      ]
     },
     "execution_count": 33,
     "metadata": {},
     "output_type": "execute_result"
    }
   ],
   "source": [
    "# after iteration function\n",
    "list(range(10)) #this will print the number till 10-1 = 9"
   ]
  },
  {
   "cell_type": "code",
   "execution_count": 34,
   "metadata": {},
   "outputs": [
    {
     "data": {
      "text/plain": [
       "[1, 2, 3, 4, 5, 6, 7, 8, 9]"
      ]
     },
     "execution_count": 34,
     "metadata": {},
     "output_type": "execute_result"
    }
   ],
   "source": [
    "list(range(2,10)) #starting from 2 end 10-1 = 9"
   ]
  },
  {
   "cell_type": "code",
   "execution_count": 35,
   "metadata": {},
   "outputs": [
    {
     "data": {
      "text/plain": [
       "[2, 4, 6, 8, 10, 12, 14, 16, 18, 20]"
      ]
     },
     "execution_count": 35,
     "metadata": {},
     "output_type": "execute_result"
    }
   ],
   "source": [
    "list(range(2,21,2)) #starting from 2, end 21-1 = 20, steps count every second number"
   ]
  },
  {
   "cell_type": "code",
   "execution_count": 42,
   "metadata": {},
   "outputs": [
    {
     "name": "stdout",
     "output_type": "stream",
     "text": [
      "2 x 1 = 2\n",
      "2 x 2 = 4\n",
      "2 x 3 = 6\n",
      "2 x 4 = 8\n",
      "2 x 5 = 10\n",
      "2 x 6 = 12\n",
      "2 x 7 = 14\n",
      "2 x 8 = 16\n",
      "2 x 9 = 18\n",
      "2 x 10 = 20\n"
     ]
    }
   ],
   "source": [
    "for n in range(1,11):\n",
    "    print(f'2 x {n} = {2 * n}')\n"
   ]
  },
  {
   "cell_type": "code",
   "execution_count": 45,
   "metadata": {},
   "outputs": [
    {
     "name": "stdout",
     "output_type": "stream",
     "text": [
      "[1, 4, 9, 16, 25, 36, 49, 64, 81, 100]\n"
     ]
    }
   ],
   "source": [
    "squares : list [int] = []\n",
    "for value in range(1,11):\n",
    "    square = value **2\n",
    "    squares.append(square)\n",
    "\n",
    "print(squares)\n"
   ]
  },
  {
   "cell_type": "markdown",
   "metadata": {},
   "source": [
    "# List comprehensive\n",
    "* for loop syntax\n",
    "\" for item in items:\n",
    "    loop_body\"\n",
    "\n",
    "* for list comprehensive syntax\n",
    "\" [loop_body for item in items]\""
   ]
  },
  {
   "cell_type": "code",
   "execution_count": 47,
   "metadata": {},
   "outputs": [
    {
     "name": "stdout",
     "output_type": "stream",
     "text": [
      "1\n",
      "2\n",
      "3\n",
      "4\n",
      "5\n",
      "6\n",
      "7\n",
      "8\n",
      "9\n",
      "10\n"
     ]
    }
   ],
   "source": [
    "# for loop\n",
    "for i in range (1,11):\n",
    "    print(i)"
   ]
  },
  {
   "cell_type": "code",
   "execution_count": 46,
   "metadata": {},
   "outputs": [
    {
     "data": {
      "text/plain": [
       "[1, 4, 9, 16, 25, 36, 49, 64, 81, 100]"
      ]
     },
     "execution_count": 46,
     "metadata": {},
     "output_type": "execute_result"
    }
   ],
   "source": [
    "# List comprehensive single line code\n",
    "[i**2 for i in range(1,11)]"
   ]
  },
  {
   "cell_type": "code",
   "execution_count": 48,
   "metadata": {},
   "outputs": [
    {
     "name": "stdout",
     "output_type": "stream",
     "text": [
      "100\n",
      "1\n",
      "385\n"
     ]
    }
   ],
   "source": [
    "digits : list [int] = [1, 4, 9, 16, 25, 36, 49, 64, 81, 100]\n",
    "\n",
    "print(max(digits))\n",
    "print(min(digits))\n",
    "print(sum(digits))"
   ]
  },
  {
   "cell_type": "code",
   "execution_count": 49,
   "metadata": {},
   "outputs": [
    {
     "name": "stdout",
     "output_type": "stream",
     "text": [
      "[1, 2, 3, 4]\n",
      "[1, 2, 3, 4]\n",
      "[1, 2, 3, 4]\n",
      "[6, 2, 3, 4]\n"
     ]
    }
   ],
   "source": [
    "# after using the slicing method data will be coppied deep\n",
    "a = [1, 2 , 3 , 4]\n",
    "b = a [:] # slice method added\n",
    "print(a)\n",
    "print(b)\n",
    "\n",
    "b[0] = 6 # will not impact a as slice method has been used\n",
    "print(a)\n",
    "print(b)\n"
   ]
  },
  {
   "cell_type": "markdown",
   "metadata": {},
   "source": [
    "# Tuples"
   ]
  },
  {
   "cell_type": "code",
   "execution_count": 63,
   "metadata": {},
   "outputs": [
    {
     "ename": "TypeError",
     "evalue": "'tuple' object does not support item assignment",
     "output_type": "error",
     "traceback": [
      "\u001b[1;31m---------------------------------------------------------------------------\u001b[0m",
      "\u001b[1;31mTypeError\u001b[0m                                 Traceback (most recent call last)",
      "\u001b[1;32md:\\coding\\Github\\Python\\class5\\class5.ipynb Cell 23\u001b[0m line \u001b[0;36m3\n\u001b[0;32m      <a href='vscode-notebook-cell:/d%3A/coding/Github/Python/class5/class5.ipynb#X42sZmlsZQ%3D%3D?line=0'>1</a>\u001b[0m names : \u001b[39mtuple\u001b[39m [\u001b[39mstr\u001b[39m] \u001b[39m=\u001b[39m (\u001b[39m'\u001b[39m\u001b[39ma\u001b[39m\u001b[39m'\u001b[39m, \u001b[39m'\u001b[39m\u001b[39mb\u001b[39m\u001b[39m'\u001b[39m, \u001b[39m'\u001b[39m\u001b[39mc\u001b[39m\u001b[39m'\u001b[39m)\n\u001b[1;32m----> <a href='vscode-notebook-cell:/d%3A/coding/Github/Python/class5/class5.ipynb#X42sZmlsZQ%3D%3D?line=2'>3</a>\u001b[0m names[\u001b[39m0\u001b[39;49m] \u001b[39m=\u001b[39m \u001b[39m\"\u001b[39m\u001b[39mPakistan\u001b[39m\u001b[39m\"\u001b[39m\n\u001b[0;32m      <a href='vscode-notebook-cell:/d%3A/coding/Github/Python/class5/class5.ipynb#X42sZmlsZQ%3D%3D?line=3'>4</a>\u001b[0m \u001b[39mprint\u001b[39m(names)\n",
      "\u001b[1;31mTypeError\u001b[0m: 'tuple' object does not support item assignment"
     ]
    }
   ],
   "source": [
    "# you cannot update any element in tuple\n",
    "names : tuple  = ('a', 'b', 'c')\n",
    "\n",
    "names[0] = \"Pakistan\"\n",
    "print(names)"
   ]
  },
  {
   "cell_type": "code",
   "execution_count": 72,
   "metadata": {},
   "outputs": [
    {
     "name": "stdout",
     "output_type": "stream",
     "text": [
      "('a', 'b', 'c')\n",
      "('Pakistan', 'b', 'c')\n"
     ]
    }
   ],
   "source": [
    "# you cannot update any element in tuple\n",
    "names : tuple  = ('a', 'b', 'c')\n",
    "print(names)\n",
    "\n",
    "# but you can freshly re-define the tuple\n",
    "names : tuple  = ('Pakistan', 'b', 'c')\n",
    "print(names)\n"
   ]
  },
  {
   "cell_type": "code",
   "execution_count": 67,
   "metadata": {},
   "outputs": [
    {
     "name": "stdout",
     "output_type": "stream",
     "text": [
      "[1, 2, 3]\n",
      "('a', 'b', [1, 2, 3, 4], True)\n"
     ]
    }
   ],
   "source": [
    "names: tuple = ('a', 'b', [1, 2, 3], True)\n",
    "print(names[2])\n",
    "\n",
    "names[2].append(4) # you can update the element in array\n",
    "print(names)"
   ]
  }
 ],
 "metadata": {
  "kernelspec": {
   "display_name": "Python 3 (ipykernel)",
   "language": "python",
   "name": "python3"
  },
  "language_info": {
   "codemirror_mode": {
    "name": "ipython",
    "version": 3
   },
   "file_extension": ".py",
   "mimetype": "text/x-python",
   "name": "python",
   "nbconvert_exporter": "python",
   "pygments_lexer": "ipython3",
   "version": "3.12.0"
  }
 },
 "nbformat": 4,
 "nbformat_minor": 4
}
