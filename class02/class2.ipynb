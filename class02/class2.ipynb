{
 "cells": [
  {
   "cell_type": "markdown",
   "metadata": {},
   "source": [
    "# Strings"
   ]
  },
  {
   "cell_type": "markdown",
   "metadata": {},
   "source": [
    "# Single and Double Quotes"
   ]
  },
  {
   "cell_type": "code",
   "execution_count": 4,
   "metadata": {},
   "outputs": [
    {
     "name": "stdout",
     "output_type": "stream",
     "text": [
      "It's Danish's Secret diary\n"
     ]
    }
   ],
   "source": [
    "#In this case single quote has been with in sentence and for border double quotes used\n",
    "print(\"It's Danish's Secret diary\")"
   ]
  },
  {
   "cell_type": "markdown",
   "metadata": {},
   "source": [
    "# Usage of \"\\\\\" to convert single or double quote in to normal character"
   ]
  },
  {
   "cell_type": "code",
   "execution_count": 3,
   "metadata": {},
   "outputs": [
    {
     "name": "stdout",
     "output_type": "stream",
     "text": [
      "Hi there's some thing, I want to ask?\n"
     ]
    }
   ],
   "source": [
    "# you cannot use back ticks but you can use double quotes and single quotes twice and thrice\n",
    "# if you want to use special character in string you can add \\ before quotes\n",
    "print('Hi there\\'s some thing, I want to ask?')"
   ]
  },
  {
   "cell_type": "markdown",
   "metadata": {},
   "source": [
    "# Usage of \"\\n\" for line break"
   ]
  },
  {
   "cell_type": "code",
   "execution_count": 6,
   "metadata": {},
   "outputs": [
    {
     "name": "stdout",
     "output_type": "stream",
     "text": [
      "PIAIC \n",
      "President Initiative for Artificial Intelligence and Computing\n"
     ]
    }
   ],
   "source": [
    "# You can type string in single but want to mention few thing in next line separately.\n",
    "print(\"PIAIC \\nPresident Initiative for Artificial Intelligence and Computing\")"
   ]
  },
  {
   "cell_type": "markdown",
   "metadata": {},
   "source": [
    "# Conversion of integer to string"
   ]
  },
  {
   "cell_type": "code",
   "execution_count": 7,
   "metadata": {},
   "outputs": [
    {
     "data": {
      "text/plain": [
       "'a7'"
      ]
     },
     "execution_count": 7,
     "metadata": {},
     "output_type": "execute_result"
    }
   ],
   "source": [
    "#You cannot concatenate the string and integer, python will generate error\n",
    "#Resolution: Convert the integer to string\n",
    "\"a\" + str(7)"
   ]
  },
  {
   "cell_type": "markdown",
   "metadata": {},
   "source": [
    "# Concatenate with \"+\" sign"
   ]
  },
  {
   "cell_type": "code",
   "execution_count": 17,
   "metadata": {},
   "outputs": [
    {
     "name": "stdout",
     "output_type": "stream",
     "text": [
      "PIAIC\n",
      "Student Name: Danish Ghani\n",
      "Father's Name: Abdul Hameed\n",
      "Age: 38\n"
     ]
    }
   ],
   "source": [
    "# How will you create a card - concatenation\n",
    "name : str = \"Danish Ghani\"\n",
    "father_name: str = \"Abdul Hameed\"\n",
    "education: str = \"Masters\"\n",
    "Age : int = 38\n",
    "\n",
    "card : str = \"PIAIC\\nStudent Name: \"+ name + \"\\nFather's Name: \" + father_name  + \"\\nAge: \" + str(Age)\n",
    "print(card)"
   ]
  },
  {
   "cell_type": "markdown",
   "metadata": {},
   "source": [
    "# Math Calculation print with \"+\" sign"
   ]
  },
  {
   "cell_type": "code",
   "execution_count": 18,
   "metadata": {},
   "outputs": [
    {
     "name": "stdout",
     "output_type": "stream",
     "text": [
      "20\n"
     ]
    }
   ],
   "source": [
    "# If you want to do the calculations\n",
    "print(2+8+10)"
   ]
  },
  {
   "cell_type": "markdown",
   "metadata": {},
   "source": [
    "# \"\\\\\" Line Continue"
   ]
  },
  {
   "cell_type": "code",
   "execution_count": 19,
   "metadata": {},
   "outputs": [
    {
     "name": "stdout",
     "output_type": "stream",
     "text": [
      "20\n"
     ]
    }
   ],
   "source": [
    "# if you want to do the calculation so that python can read it in single but you want\n",
    "# to type in multipel lines\n",
    "print(2+\\\n",
    "      8+\\\n",
    "      10)"
   ]
  },
  {
   "cell_type": "markdown",
   "metadata": {},
   "source": [
    "## Multiline string typing with 3 times double or single quotes"
   ]
  },
  {
   "cell_type": "code",
   "execution_count": 23,
   "metadata": {},
   "outputs": [
    {
     "name": "stdout",
     "output_type": "stream",
     "text": [
      "\n",
      "PIAIC\n",
      "Student Name: ..........\n",
      "Father's Name: .........\n",
      "Age: ....................\n",
      "\n"
     ]
    }
   ],
   "source": [
    "name : str = \"Danish Ghani\"\n",
    "father_name: str = \"Abdul Hameed\"\n",
    "education: str = \"Masters\"\n",
    "Age : int = 38\n",
    "\n",
    "# usage of triple single / double quotes\n",
    "\n",
    "card : str = \"\"\"\n",
    "PIAIC\n",
    "Student Name: ..........\n",
    "Father's Name: .........\n",
    "Age: ....................\n",
    "\"\"\"\n",
    "\n",
    "print(card)"
   ]
  },
  {
   "cell_type": "markdown",
   "metadata": {},
   "source": [
    "# F-String Python (Use just like backticks)"
   ]
  },
  {
   "cell_type": "code",
   "execution_count": 28,
   "metadata": {},
   "outputs": [
    {
     "name": "stdout",
     "output_type": "stream",
     "text": [
      "\n",
      "PIAIC\n",
      "Student Name: Danish Ghani\n",
      "Father's Name: Abdul Hameed\n",
      "Age: 38\n",
      "Total fee: 150\n",
      "\n"
     ]
    }
   ],
   "source": [
    "name : str = \"Danish Ghani\"\n",
    "father_name: str = \"Abdul Hameed\"\n",
    "education: str = \"Masters\"\n",
    "Age : int = 38\n",
    "\n",
    "#f usage of triple single / double quotes\n",
    "# this can also updated calculated answer as well but with curly brackets\n",
    "\n",
    "card : str = f\"\"\"\n",
    "PIAIC\n",
    "Student Name: {name}\n",
    "Father's Name: {father_name}\n",
    "Age: {Age}\n",
    "Total fee: {100 + 20 + 30}\n",
    "\"\"\"\n",
    "\n",
    "print(card)"
   ]
  },
  {
   "cell_type": "markdown",
   "metadata": {},
   "source": [
    "# Old coding style of f-string"
   ]
  },
  {
   "cell_type": "code",
   "execution_count": 29,
   "metadata": {},
   "outputs": [
    {
     "name": "stdout",
     "output_type": "stream",
     "text": [
      "\n",
      "PIAIC\n",
      "Student Name: Danish Ghani\n",
      "Father's Name: Abdul Hameed\n",
      "Age: 38\n",
      "Education: Masters\n",
      "\n"
     ]
    }
   ],
   "source": [
    "name : str = \"Danish Ghani\"\n",
    "father_name: str = \"Abdul Hameed\"\n",
    "education: str = \"Masters\"\n",
    "Age : int = 38\n",
    "\n",
    "#f usage of triple single / double quotes\n",
    "# this can also updated calculated answer as well but with curly brackets\n",
    "\n",
    "card : str = f\"\"\"\n",
    "PIAIC\n",
    "Student Name: %s\n",
    "Father's Name: %s\n",
    "Age: %d\n",
    "Education: %s\n",
    "\"\"\" %(name, father_name, Age, education)\n",
    "\n",
    "print(card)"
   ]
  },
  {
   "cell_type": "markdown",
   "metadata": {},
   "source": [
    "# String Methods"
   ]
  },
  {
   "cell_type": "code",
   "execution_count": 42,
   "metadata": {},
   "outputs": [
    {
     "name": "stdout",
     "output_type": "stream",
     "text": [
      "Muhammad ali\n",
      "muhammad ali\n",
      "MUHAMMAD ALI\n"
     ]
    }
   ],
   "source": [
    "name : str = \"MuhAmmad aLI\"\n",
    "print(name.capitalize())\n",
    "print(name.lower())\n",
    "print(name.upper())"
   ]
  },
  {
   "cell_type": "code",
   "execution_count": 48,
   "metadata": {},
   "outputs": [
    {
     "data": {
      "text/plain": [
       "'          Asim         khan           '"
      ]
     },
     "metadata": {},
     "output_type": "display_data"
    },
    {
     "data": {
      "text/plain": [
       "'Asim         khan           '"
      ]
     },
     "metadata": {},
     "output_type": "display_data"
    },
    {
     "data": {
      "text/plain": [
       "'          Asim         khan'"
      ]
     },
     "metadata": {},
     "output_type": "display_data"
    },
    {
     "data": {
      "text/plain": [
       "'Asim         khan'"
      ]
     },
     "metadata": {},
     "output_type": "display_data"
    },
    {
     "data": {
      "text/plain": [
       "' Asim khan '"
      ]
     },
     "metadata": {},
     "output_type": "display_data"
    },
    {
     "data": {
      "text/plain": [
       "'Asim khan'"
      ]
     },
     "metadata": {},
     "output_type": "display_data"
    }
   ],
   "source": [
    "name1 : str = \"          Asim         khan           \"\n",
    "\n",
    "display(name1)\n",
    "display(name1.lstrip()) # this will remove all spaces from left\n",
    "display(name1.rstrip()) # this will remove all spaces from right\n",
    "display(name1.strip()) # this will remove all spaces from both left and right\n",
    "\n",
    "import re\n",
    "\n",
    "name2 : str = re.sub(' {2,100}',' ',name1)\n",
    "#in first section, this will remove all spaces between 2 to 100\n",
    "#in second section, this will replace the spaces to single space\n",
    "#in third section, you will define variable\n",
    "# now if you want to remove left and rights spaces you can use strip method as well.\n",
    "name3 : str = re.sub(' {2,100}',' ',name1).strip()\n",
    "display(name2)\n",
    "display(name3)"
   ]
  },
  {
   "cell_type": "markdown",
   "metadata": {},
   "source": [
    "# \"{}\" Place Holder"
   ]
  },
  {
   "cell_type": "code",
   "execution_count": 34,
   "metadata": {},
   "outputs": [
    {
     "data": {
      "text/plain": [
       "'Pakistan value a = 20 and b = 30'"
      ]
     },
     "execution_count": 34,
     "metadata": {},
     "output_type": "execute_result"
    }
   ],
   "source": [
    "a = 20\n",
    "b = 30\n",
    "# index             0           1         0,1\n",
    "\"Pakistan value a = {} and b = {}\".format(a,b)"
   ]
  },
  {
   "cell_type": "code",
   "execution_count": 37,
   "metadata": {},
   "outputs": [
    {
     "name": "stdout",
     "output_type": "stream",
     "text": [
      "\n",
      "PIAIC\n",
      "Student Name: Danish Ghani\n",
      "Father's Name: Abdul Hameed\n",
      "Age: 38\n",
      "Education : Masters\n",
      "\n"
     ]
    }
   ],
   "source": [
    "name : str = \"Danish Ghani\"\n",
    "father_name: str = \"Abdul Hameed\"\n",
    "education: str = \"Masters\"\n",
    "Age : int = 38\n",
    "\n",
    "#\".format()\" can work just like f-string\n",
    "# you just have to be carefull with index number\n",
    "# 1st character in round brackets index will be zero and start onwards.\n",
    "\n",
    "card : str = \"\"\"\n",
    "PIAIC\n",
    "Student Name: {1}\n",
    "Father's Name: {0}\n",
    "Age: {3}\n",
    "Education : {2}\n",
    "\"\"\".format(father_name,name,education, Age)\n",
    "\n",
    "print(card)\n"
   ]
  },
  {
   "cell_type": "code",
   "execution_count": 38,
   "metadata": {},
   "outputs": [
    {
     "name": "stdout",
     "output_type": "stream",
     "text": [
      "\n",
      "PIAIC\n",
      "Student Name: Danish Ghani\n",
      "Father's Name: Abdul Hameed\n",
      "Age: 38\n",
      "Education : Masters\n",
      "\n"
     ]
    }
   ],
   "source": [
    "name : str = \"Danish Ghani\"\n",
    "father_name: str = \"Abdul Hameed\"\n",
    "education: str = \"Masters\"\n",
    "Age : int = 38\n",
    "\n",
    "#\".format()\" can work just like f-string\n",
    "# you just have to be carefull with index number\n",
    "# you can also index with words as well\n",
    "\n",
    "card : str = \"\"\"\n",
    "PIAIC\n",
    "Student Name: {b}\n",
    "Father's Name: {a}\n",
    "Age: {d}\n",
    "Education : {c}\n",
    "\"\"\".format(a=father_name,b=name,c=education, d=Age)\n",
    "\n",
    "print(card)"
   ]
  },
  {
   "cell_type": "markdown",
   "metadata": {},
   "source": [
    "# Execute codes in strings."
   ]
  },
  {
   "cell_type": "code",
   "execution_count": 39,
   "metadata": {},
   "outputs": [
    {
     "name": "stdout",
     "output_type": "stream",
     "text": [
      "My name is Danish\n",
      "200\n"
     ]
    }
   ],
   "source": [
    "student_code : str = \"\"\"\n",
    "print(\"My name is Danish\")\n",
    "a = 10\n",
    "b = 20\n",
    "print(a*b)\n",
    "\"\"\"\n",
    "exec(student_code)"
   ]
  },
  {
   "cell_type": "code",
   "execution_count": 50,
   "metadata": {},
   "outputs": [
    {
     "data": {
      "text/plain": [
       "'abc.com'"
      ]
     },
     "execution_count": 50,
     "metadata": {},
     "output_type": "execute_result"
    }
   ],
   "source": [
    "url : str = \"https://abc.com\"\n",
    "url.removeprefix(\"https://\")\n"
   ]
  }
 ],
 "metadata": {
  "kernelspec": {
   "display_name": "python12",
   "language": "python",
   "name": "python3"
  },
  "language_info": {
   "codemirror_mode": {
    "name": "ipython",
    "version": 3
   },
   "file_extension": ".py",
   "mimetype": "text/x-python",
   "name": "python",
   "nbconvert_exporter": "python",
   "pygments_lexer": "ipython3",
   "version": "3.12.0"
  }
 },
 "nbformat": 4,
 "nbformat_minor": 2
}
