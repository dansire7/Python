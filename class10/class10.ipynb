{
 "cells": [
  {
   "cell_type": "markdown",
   "metadata": {},
   "source": [
    "# Function\n",
    "    * Predefined function\n",
    "        * Already defined in language\n",
    "    * User defined function\n",
    "        * These are custom made function by user.\n",
    "    * Return & non return function\n",
    "        * Return - We can store the output value in any variable.\n",
    "        * Non-Return - We cannot store the output value in any variable.\n",
    "\n",
    "# Syntax of function\n",
    "'''\n",
    "def func_name (param1: type, param2: type ..) -> return_type:\n",
    "        function_body\n",
    "'''\n",
    "\n",
    "* function calling\n",
    "func_name(arg1, arg2 ...)"
   ]
  },
  {
   "cell_type": "code",
   "execution_count": 24,
   "metadata": {},
   "outputs": [
    {
     "name": "stdout",
     "output_type": "stream",
     "text": [
      "President Initiative for Artifical Intelligence and Computing\n",
      "Python crash course\n"
     ]
    }
   ],
   "source": [
    "def piaic ()->None:\n",
    "    print(\"President Initiative for Artifical Intelligence and Computing\")\n",
    "    print(\"Python crash course\")\n",
    "\n",
    "piaic()"
   ]
  },
  {
   "cell_type": "code",
   "execution_count": 25,
   "metadata": {},
   "outputs": [
    {
     "data": {
      "text/plain": [
       "4"
      ]
     },
     "execution_count": 25,
     "metadata": {},
     "output_type": "execute_result"
    }
   ],
   "source": [
    "def add2(num1:int, num2: int)-> int:\n",
    "    return num1 + num2\n",
    "    \n",
    "add2(2,2)"
   ]
  },
  {
   "cell_type": "code",
   "execution_count": 26,
   "metadata": {},
   "outputs": [
    {
     "name": "stdout",
     "output_type": "stream",
     "text": [
      "12 0\n",
      "12 2\n",
      "2 12\n"
     ]
    },
    {
     "data": {
      "text/plain": [
       "14"
      ]
     },
     "execution_count": 26,
     "metadata": {},
     "output_type": "execute_result"
    }
   ],
   "source": [
    "# optional argument function\n",
    "def add2(num1:int, num2: int = 0)-> int:\n",
    "    print(num1, num2)\n",
    "    return num1 + num2\n",
    "    \n",
    "add2(12)\n",
    "add2(12,2)  # This is positional argument\n",
    "add2(num2 = 12, num1 = 2) # This is parameter key wise argument"
   ]
  },
  {
   "cell_type": "code",
   "execution_count": 27,
   "metadata": {},
   "outputs": [
    {
     "data": {
      "text/plain": [
       "4"
      ]
     },
     "execution_count": 27,
     "metadata": {},
     "output_type": "execute_result"
    }
   ],
   "source": [
    "# lambda function\n",
    "a = lambda num1, num2: num1+num2\n",
    "\n",
    "a(2,2)"
   ]
  },
  {
   "cell_type": "code",
   "execution_count": 28,
   "metadata": {},
   "outputs": [
    {
     "name": "stdout",
     "output_type": "stream",
     "text": [
      "[1, 4, 9, 16, 25, 36, 49, 64, 81, 100]\n"
     ]
    }
   ],
   "source": [
    "# lambda function with map\n",
    "data : list[int] = [1,2,3,4,5,6,7,8,9,10]\n",
    "# first x is param\n",
    "# after colon : second x is value stored in param \n",
    "# after colon : data variable will be updated as well\n",
    "data = list(map(lambda x:x**2 , data))\n",
    "print(data)"
   ]
  },
  {
   "cell_type": "code",
   "execution_count": 29,
   "metadata": {},
   "outputs": [
    {
     "data": {
      "text/plain": [
       "[2, 4, 6, 8, 10]"
      ]
     },
     "execution_count": 29,
     "metadata": {},
     "output_type": "execute_result"
    }
   ],
   "source": [
    "# lambda function with filter\n",
    "data : list[int] = [1,2,3,4,5,6,7,8,9,10]\n",
    "# first x is param\n",
    "# after colon : second x is value stored in param \n",
    "# filter will update only thos value which falls as true in defined param.\n",
    "# after colon : data variable will be updated as well\n",
    "data = list(filter(lambda x:x % 2 == 0, data))\n",
    "data"
   ]
  },
  {
   "cell_type": "code",
   "execution_count": 30,
   "metadata": {},
   "outputs": [
    {
     "name": "stdout",
     "output_type": "stream",
     "text": [
      "55\n"
     ]
    }
   ],
   "source": [
    "# lambda with Callable type\n",
    "from typing import Callable\n",
    "# first Callable type is variable type used which was imported\n",
    "# 1st and 2nd param will be int and return is also int\n",
    "# after equal sign lambda is function\n",
    "# x and y is param and x+y is func body\n",
    "  \n",
    "add: Callable[[int, int], int] = lambda x,y: x+y\n",
    "\n",
    "result = add(40,15)\n",
    "print(result)"
   ]
  },
  {
   "cell_type": "markdown",
   "metadata": {},
   "source": [
    "* link for lambda function details\n",
    "https://stackoverflow.com/questions/33833881/is-it-possible-to-type-hint-a-lambda-function"
   ]
  },
  {
   "cell_type": "markdown",
   "metadata": {},
   "source": [
    "# Generator function"
   ]
  },
  {
   "cell_type": "code",
   "execution_count": 31,
   "metadata": {},
   "outputs": [
    {
     "name": "stdout",
     "output_type": "stream",
     "text": [
      "<generator object my_range at 0x000001BFA24CFF10>\n",
      "<class 'generator'>\n",
      "[2, 4, 6, 8, 10]\n"
     ]
    }
   ],
   "source": [
    "## Generator Function without iterator\n",
    "def my_range(start:int , end:int , step: int=1):\n",
    "    for i in range(start,end+1,step):\n",
    "        yield i # Generator function\n",
    "# The yield statement returns a generator object to the one who calls the function which contains yield, instead of simply returning a value.\n",
    "\n",
    "a = my_range(2,10,2)\n",
    "print(a)\n",
    "print(type(a))\n",
    "print(list(a))"
   ]
  },
  {
   "cell_type": "code",
   "execution_count": 32,
   "metadata": {},
   "outputs": [
    {
     "name": "stdout",
     "output_type": "stream",
     "text": [
      "<generator object my_range at 0x000001BFA25048B0>\n",
      "1\n",
      "2\n",
      "3\n",
      "Pakistan\n",
      "4\n"
     ]
    }
   ],
   "source": [
    "# We are calling the function by using next function\n",
    "a = my_range(1,10)\n",
    "print(a)\n",
    "print(next(a))\n",
    "print(next(a))\n",
    "print(next(a))\n",
    "print(\"Pakistan\")\n",
    "print(next(a))"
   ]
  },
  {
   "cell_type": "code",
   "execution_count": 33,
   "metadata": {},
   "outputs": [
    {
     "name": "stdout",
     "output_type": "stream",
     "text": [
      "<class 'generator'>\n",
      "1\n",
      "2\n"
     ]
    }
   ],
   "source": [
    "\n",
    "from collections.abc import Iterator\n",
    "#                                               here we have mentioned \n",
    "#                                               return type as iterator\n",
    "def my_range(start:int , end:int , step: int=1)->Iterator[int]:\n",
    "    for i in range(start,end+1,step):\n",
    "        yield i # Generator function\n",
    "\n",
    "\n",
    "iterator_variable : Iterator [int] = my_range(1,10)\n",
    "\n",
    "print(type(iterator_variable))\n",
    "print(next(iterator_variable))\n",
    "print(next(iterator_variable))"
   ]
  },
  {
   "cell_type": "code",
   "execution_count": 34,
   "metadata": {},
   "outputs": [
    {
     "name": "stdout",
     "output_type": "stream",
     "text": [
      "3\n",
      "4\n",
      "5\n",
      "6\n",
      "7\n",
      "8\n",
      "9\n",
      "10\n"
     ]
    }
   ],
   "source": [
    "for i in iterator_variable:\n",
    "    print(i)"
   ]
  },
  {
   "cell_type": "code",
   "execution_count": 35,
   "metadata": {},
   "outputs": [
    {
     "name": "stdout",
     "output_type": "stream",
     "text": [
      "(1, 2, 3, 4, 5, 6) <class 'tuple'>\n",
      "total of passed numbers are 21.\n"
     ]
    }
   ],
   "source": [
    "# Multiple parameter function with single steric will return tuple\n",
    "def abc(*num:int)->None:\n",
    "    print(num,type(num))\n",
    "    total = 0\n",
    "    for n in num:\n",
    "        total += n\n",
    "    print(f'total of passed numbers are {total}.')\n",
    "\n",
    "abc(1,2,3,4,5,6)"
   ]
  },
  {
   "cell_type": "code",
   "execution_count": 36,
   "metadata": {},
   "outputs": [
    {
     "name": "stdout",
     "output_type": "stream",
     "text": [
      "{'a': 30, 'b': 10, 'c': 25, 'name': 'Danish'} <class 'dict'>\n"
     ]
    }
   ],
   "source": [
    "# Multiple parameter function with double steric will ask to process argument with keys and its return type will be dictionary\n",
    "\n",
    "def abc(**num:int | str):\n",
    "    print(num,type(num))\n",
    "\n",
    "abc(a= 30, b=10, c=25, name = 'Danish')"
   ]
  },
  {
   "cell_type": "code",
   "execution_count": 37,
   "metadata": {},
   "outputs": [
    {
     "name": "stdout",
     "output_type": "stream",
     "text": [
      "1 2 (3, 4) {'ab': 30, 'bb': 25, 'cb': 35}\n",
      "<class 'int'>\n",
      "<class 'int'>\n",
      "<class 'tuple'>\n",
      "<class 'dict'>\n"
     ]
    }
   ],
   "source": [
    "# You can use multiple type of arguments in a function\n",
    "\n",
    "def myfunc(a: int,b: int,*c: int,**d: int|str):\n",
    "    print(a,b,c,d)\n",
    "    print(type(a))\n",
    "    print(type(b))\n",
    "    print(type(c))\n",
    "    print(type(d))\n",
    "\n",
    "myfunc(1,2,3,4,ab=30, bb=25, cb = 35)"
   ]
  },
  {
   "cell_type": "markdown",
   "metadata": {},
   "source": [
    "# Recursive Function"
   ]
  },
  {
   "cell_type": "code",
   "execution_count": 38,
   "metadata": {},
   "outputs": [
    {
     "data": {
      "text/plain": [
       "60"
      ]
     },
     "execution_count": 38,
     "metadata": {},
     "output_type": "execute_result"
    }
   ],
   "source": [
    "# in first line type has casted\n",
    "def rec_fun (num1:int) -> int:\n",
    "# function body\n",
    "    if num1==2: # when num1 will be equals to 1 than recursion will be stopped\n",
    "        return 1\n",
    "    else: # if not equals to  1 will execute below body\n",
    "\n",
    "        return (num1 *(rec_fun(num1-1))) \n",
    "    #           5*4*3\n",
    "    # 1st num1 will be 5 return 5\n",
    "    # 2nd num1 will be 4 return 5 * 4\n",
    "    # 3rd num1 will be 3 return 5 * 4 * 3\n",
    "    # 4th num1 will be 2 and recursion will be stopped and 60 will be returned\n",
    "\n",
    "\n",
    "rec_fun(5)"
   ]
  },
  {
   "cell_type": "markdown",
   "metadata": {},
   "source": [
    "# Decorator function"
   ]
  },
  {
   "cell_type": "code",
   "execution_count": 39,
   "metadata": {},
   "outputs": [
    {
     "name": "stdout",
     "output_type": "stream",
     "text": [
      "This is wrap1 function print 1 and wrap1 num1 is 100\n",
      "hi there say_hello func number is 100\n",
      "This is wrap1 function print after func() and wrap1 num1 is 100\n"
     ]
    }
   ],
   "source": [
    "from typing import Callable\n",
    "\n",
    "# 1st function created with type casting\n",
    "def deco1 (func: Callable[[int], None])->Callable[[int], None]:\n",
    "    \n",
    "    # 2nd function created within function\n",
    "    def wrap1(num1:int)-> None:\n",
    "    \n",
    "        # this is function body of wrap1 under deco1 function\n",
    "        print(f'This is wrap1 function print 1 and wrap1 num1 is {num1}')\n",
    "       \n",
    "        # this is the argument which will be passed through deco1 function\n",
    "        func(num1)\n",
    "       \n",
    "        # this is function body of wrap1 under deco1 function       \n",
    "        print(f'This is wrap1 function print after func() and wrap1 num1 is {num1}')\n",
    "       \n",
    "        # here you have returned wrap1 answer\n",
    "    return wrap1\n",
    "\n",
    "@deco1\n",
    "def say_hello (num2: int)-> None:\n",
    "    print(f'hi there say_hello func number is {num2}')\n",
    "\n",
    "say_hello(100)"
   ]
  }
 ],
 "metadata": {
  "kernelspec": {
   "display_name": "python12",
   "language": "python",
   "name": "python3"
  },
  "language_info": {
   "codemirror_mode": {
    "name": "ipython",
    "version": 3
   },
   "file_extension": ".py",
   "mimetype": "text/x-python",
   "name": "python",
   "nbconvert_exporter": "python",
   "pygments_lexer": "ipython3",
   "version": "3.12.0"
  }
 },
 "nbformat": 4,
 "nbformat_minor": 2
}
