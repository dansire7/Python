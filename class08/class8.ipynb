{
 "cells": [
  {
   "cell_type": "code",
   "execution_count": 5,
   "metadata": {},
   "outputs": [
    {
     "name": "stdout",
     "output_type": "stream",
     "text": [
      "8\n"
     ]
    }
   ],
   "source": [
    "from typing import Dict,  Union, Optional\n",
    "import pprint \n",
    "\n",
    "# Created type\n",
    "\n",
    "Key = Union[str, int]\n",
    "Value = Union [str, int, float, list, dict, tuple, set] # you should not use any or else system will generate error if any un-hashable data type has been used.\n",
    "\n",
    "# Dict is based on key and its value\n",
    "\n",
    "#          key, value  Dictionary identifier is values will be in curly brackets\n",
    "data: Dict[Key, Value] = {'fname':'Abdul Hameed',\n",
    "                        'name':\"Danish Ghani\",\n",
    "                        'education':\"MSCS\",\n",
    "                         0 : 'Pakistan',\n",
    "                         'abc': (1,2),#  tuples can be added in value\n",
    "                         'xyc': [1,3,3], # list can be added in value\n",
    "                          'axy': {2,3}, # set can be added in value\n",
    "                         'abcd': {'a': '2', 'b' : '8'} # dict can be added in value\n",
    "                        }\n",
    "# dictionary of data will show data like an object.\n",
    "\n",
    "\n",
    "print(data['abcd']['b'])"
   ]
  },
  {
   "cell_type": "code",
   "execution_count": 38,
   "metadata": {},
   "outputs": [
    {
     "ename": "TypeError",
     "evalue": "'list' object is not callable",
     "output_type": "error",
     "traceback": [
      "\u001b[1;31m---------------------------------------------------------------------------\u001b[0m",
      "\u001b[1;31mTypeError\u001b[0m                                 Traceback (most recent call last)",
      "\u001b[1;32md:\\coding\\Github\\Python\\class8\\class8.ipynb Cell 2\u001b[0m line \u001b[0;36m1\n\u001b[0;32m     <a href='vscode-notebook-cell:/d%3A/coding/Github/Python/class8/class8.ipynb#W1sZmlsZQ%3D%3D?line=11'>12</a>\u001b[0m data: Dict[Key, Value] \u001b[39m=\u001b[39m {\u001b[39m'\u001b[39m\u001b[39mfname\u001b[39m\u001b[39m'\u001b[39m:\u001b[39m'\u001b[39m\u001b[39mAbdul Hameed\u001b[39m\u001b[39m'\u001b[39m,\n\u001b[0;32m     <a href='vscode-notebook-cell:/d%3A/coding/Github/Python/class8/class8.ipynb#W1sZmlsZQ%3D%3D?line=12'>13</a>\u001b[0m                         \u001b[39m'\u001b[39m\u001b[39mname\u001b[39m\u001b[39m'\u001b[39m:\u001b[39m\"\u001b[39m\u001b[39mDanish Ghani\u001b[39m\u001b[39m\"\u001b[39m,\n\u001b[0;32m     <a href='vscode-notebook-cell:/d%3A/coding/Github/Python/class8/class8.ipynb#W1sZmlsZQ%3D%3D?line=13'>14</a>\u001b[0m                         \u001b[39m'\u001b[39m\u001b[39meducation\u001b[39m\u001b[39m'\u001b[39m:\u001b[39m\"\u001b[39m\u001b[39mMSCS\u001b[39m\u001b[39m\"\u001b[39m}\n\u001b[0;32m     <a href='vscode-notebook-cell:/d%3A/coding/Github/Python/class8/class8.ipynb#W1sZmlsZQ%3D%3D?line=14'>15</a>\u001b[0m \u001b[39m# dictionary of data will show data like an object.\u001b[39;00m\n\u001b[1;32m---> <a href='vscode-notebook-cell:/d%3A/coding/Github/Python/class8/class8.ipynb#W1sZmlsZQ%3D%3D?line=16'>17</a>\u001b[0m [m \u001b[39mfor\u001b[39;00m m \u001b[39min\u001b[39;00m \u001b[39mdir\u001b[39;49m(data) \u001b[39mif\u001b[39;00m \u001b[39m\"\u001b[39m\u001b[39m__\u001b[39m\u001b[39m\"\u001b[39m \u001b[39mnot\u001b[39;00m \u001b[39min\u001b[39;00m m]\n\u001b[0;32m     <a href='vscode-notebook-cell:/d%3A/coding/Github/Python/class8/class8.ipynb#W1sZmlsZQ%3D%3D?line=17'>18</a>\u001b[0m \u001b[39m# print(methods)\u001b[39;00m\n",
      "\u001b[1;31mTypeError\u001b[0m: 'list' object is not callable"
     ]
    }
   ],
   "source": [
    "from typing import Dict,  Union, Optional, Tuple,Set\n",
    "import pprint \n",
    "\n",
    "# Created type\n",
    "\n",
    "Key = Union[str, int]\n",
    "Value = Union [str, int, list, Dict, Tuple, Set] # you should not use any or else system will generate error if any un-hashable data type has been used.\n",
    "\n",
    "# Dict is based on key and its value\n",
    "\n",
    "#          key, value  Dictionary identifier is values will be in curly brackets\n",
    "data: Dict[Key, Value] = {'fname':'Abdul Hameed',\n",
    "                        'name':\"Danish Ghani\",\n",
    "                        'education':\"MSCS\"}\n",
    "# dictionary of data will show data like an object.\n",
    "\n",
    "[m for m in dir(data) if \"__\" not in m]\n",
    "# print(methods)"
   ]
  },
  {
   "cell_type": "code",
   "execution_count": 39,
   "metadata": {},
   "outputs": [
    {
     "name": "stdout",
     "output_type": "stream",
     "text": [
      "before {'fname': 'Abdul Hameed', 'name': 'Danish Ghani', 'education': 'MSCS'}\n",
      "after {}\n"
     ]
    }
   ],
   "source": [
    "# clear method\n",
    "\n",
    "from typing import Dict,  Union, Optional, Tuple,Set\n",
    "\n",
    "Key = Union[str, int]\n",
    "Value = Union [str, int, list, Dict, Tuple, Set] \n",
    "\n",
    "#          key, value  Dictionary identifier is values will be in curly brackets\n",
    "data: Dict[Key, Value] = {'fname':'Abdul Hameed',\n",
    "                        'name':\"Danish Ghani\",\n",
    "                        'education':\"MSCS\"}\n",
    "# dictionary of data will show data like an object.\n",
    "\n",
    "print('before', data)\n",
    "\n",
    "data.clear() # this will clear all the values in dictionary\n",
    "print('after', data) "
   ]
  },
  {
   "cell_type": "code",
   "execution_count": null,
   "metadata": {},
   "outputs": [],
   "source": [
    "# clear method\n",
    "\n",
    "from typing import Dict,  Union, Optional, Tuple,Set\n",
    "\n",
    "Key = Union[str, int]\n",
    "Value = Union [str, int, list, Dict, Tuple, Set] \n",
    "\n",
    "#          key, value  Dictionary identifier is values will be in curly brackets\n",
    "data: Dict[Key, Value] = {'fname':'Abdul Hameed',\n",
    "                        'name':\"Danish Ghani\",\n",
    "                        'education':\"MSCS\"}\n",
    "# dictionary of data will show data like an object.\n",
    "\n",
    "print('before', data)\n",
    "\n",
    "data.clear() # this will clear all the values in dictionary\n",
    "print('after', data) "
   ]
  },
  {
   "cell_type": "code",
   "execution_count": 40,
   "metadata": {},
   "outputs": [
    {
     "name": "stdout",
     "output_type": "stream",
     "text": [
      "before {'fname': 'Abdul Hameed', 'name': 'Danish Ghani', 'education': 'MSCS'}\n"
     ]
    },
    {
     "ename": "NameError",
     "evalue": "name 'data' is not defined",
     "output_type": "error",
     "traceback": [
      "\u001b[1;31m---------------------------------------------------------------------------\u001b[0m",
      "\u001b[1;31mNameError\u001b[0m                                 Traceback (most recent call last)",
      "\u001b[1;32md:\\coding\\Github\\Python\\class8\\class8.ipynb Cell 5\u001b[0m line \u001b[0;36m1\n\u001b[0;32m     <a href='vscode-notebook-cell:/d%3A/coding/Github/Python/class8/class8.ipynb#W4sZmlsZQ%3D%3D?line=13'>14</a>\u001b[0m \u001b[39mprint\u001b[39m(\u001b[39m'\u001b[39m\u001b[39mbefore\u001b[39m\u001b[39m'\u001b[39m, data)\n\u001b[0;32m     <a href='vscode-notebook-cell:/d%3A/coding/Github/Python/class8/class8.ipynb#W4sZmlsZQ%3D%3D?line=14'>15</a>\u001b[0m \u001b[39mdel\u001b[39;00m data \u001b[39m# this will delete whole variable\u001b[39;00m\n\u001b[1;32m---> <a href='vscode-notebook-cell:/d%3A/coding/Github/Python/class8/class8.ipynb#W4sZmlsZQ%3D%3D?line=15'>16</a>\u001b[0m \u001b[39mprint\u001b[39m(\u001b[39m'\u001b[39m\u001b[39mafter\u001b[39m\u001b[39m'\u001b[39m, data) \n",
      "\u001b[1;31mNameError\u001b[0m: name 'data' is not defined"
     ]
    }
   ],
   "source": [
    "# Del method\n",
    "\n",
    "from typing import Dict,  Union, Optional, Tuple,Set\n",
    "\n",
    "Key = Union[str, int]\n",
    "Value = Union [str, int, list, Dict, Tuple, Set] \n",
    "\n",
    "#          key, value  Dictionary identifier is values will be in curly brackets\n",
    "data: Dict[Key, Value] = {'fname':'Abdul Hameed',\n",
    "                        'name':\"Danish Ghani\",\n",
    "                        'education':\"MSCS\"}\n",
    "# dictionary of data will show data like an object.\n",
    "\n",
    "print('before', data)\n",
    "del data # this will delete whole variable\n",
    "print('after', data) "
   ]
  },
  {
   "cell_type": "code",
   "execution_count": 43,
   "metadata": {},
   "outputs": [
    {
     "name": "stdout",
     "output_type": "stream",
     "text": [
      "before {'fname': 'Abdul Hameed', 'name': 'Danish Ghani', 'education': 'MSCS'}\n",
      "after {'fname': 'Abdul Hameed'}\n",
      "Danish Ghani\n"
     ]
    }
   ],
   "source": [
    "# pop method\n",
    "\n",
    "from typing import Dict,  Union, Optional, Tuple,Set\n",
    "\n",
    "Key = Union[str, int]\n",
    "Value = Union [str, int, list, Dict, Tuple, Set] \n",
    "\n",
    "#          key, value  Dictionary identifier is values will be in curly brackets\n",
    "data: Dict[Key, Value] = {'fname':'Abdul Hameed',\n",
    "                        'name':\"Danish Ghani\",\n",
    "                        'education':\"MSCS\"}\n",
    "# dictionary of data will show data like an object.\n",
    "\n",
    "print('before', data)\n",
    "data.pop('education') # this will clear name key and it's value\n",
    "a = data.pop('name') # this will clear name key and it's value i.e. \"Danish Ghani\" will be stored in a new variable\n",
    "print('after', data)\n",
    "print(a) "
   ]
  },
  {
   "cell_type": "code",
   "execution_count": 45,
   "metadata": {},
   "outputs": [
    {
     "name": "stdout",
     "output_type": "stream",
     "text": [
      "before {'fname': 'Abdul Hameed', 'name': 'Danish Ghani', 'education': 'MSCS'}\n",
      "after {'fname': 'Abdul Hameed', 'name': 'Danish Ghani'}\n",
      "('education', 'MSCS')\n"
     ]
    }
   ],
   "source": [
    "# pop item method\n",
    "\n",
    "from typing import Dict,  Union, Optional, Tuple,Set\n",
    "\n",
    "Key = Union[str, int]\n",
    "Value = Union [str, int, list, Dict, Tuple, Set] \n",
    "\n",
    "#          key, value  Dictionary identifier is values will be in curly brackets\n",
    "data: Dict[Key, Value] = {'fname':'Abdul Hameed',\n",
    "                        'name':\"Danish Ghani\",\n",
    "                        'education':\"MSCS\"}\n",
    "# dictionary of data will show data like an object.\n",
    "\n",
    "print('before', data)\n",
    "a = data.popitem() # this will clear last item (key+value) i.e. education with value will be removed and stored in a new variable\n",
    "print('after', data)\n",
    "print(a)\n"
   ]
  },
  {
   "cell_type": "code",
   "execution_count": 64,
   "metadata": {},
   "outputs": [
    {
     "name": "stdout",
     "output_type": "stream",
     "text": [
      "{'fname': 'Abdul Hameed', 'name': 'Danish Ghani', 'education': 'MSCS'}\n",
      "Pakistan\n"
     ]
    }
   ],
   "source": [
    "# get method\n",
    "\n",
    "from typing import Dict,  Union, Optional, Tuple,Set\n",
    "\n",
    "Key = Union[str, int]\n",
    "Value = Union [str, int, list, Dict, Tuple, Set] \n",
    "\n",
    "#          key, value  Dictionary identifier is values will be in curly brackets\n",
    "data: Dict[Key, Value] = {'fname':'Abdul Hameed',\n",
    "                        'name':\"Danish Ghani\",\n",
    "                        'education':\"MSCS\"}\n",
    "# dictionary of data will show data like an object.\n",
    "\n",
    "data.get(\"country\",\"Pakistan\") # this will not generate error but will also not make .get keys and values added in data variable Dict\n",
    "print(data)\n",
    "print(a)"
   ]
  },
  {
   "cell_type": "code",
   "execution_count": 51,
   "metadata": {},
   "outputs": [
    {
     "name": "stdout",
     "output_type": "stream",
     "text": [
      "{'country': 'Pakistan',\n",
      " 'education': 'MSCS',\n",
      " 'fname': 'Abdul Hameed',\n",
      " 'name': 'Danish Ghani'}\n"
     ]
    }
   ],
   "source": [
    "# setdefault method\n",
    "\n",
    "from typing import Dict,  Union, Optional, Tuple,Set\n",
    "\n",
    "Key = Union[str, int]\n",
    "Value = Union [str, int, list, Dict, Tuple, Set] \n",
    "\n",
    "#          key, value  Dictionary identifier is values will be in curly brackets\n",
    "data: Dict[Key, Value] = {'fname':'Abdul Hameed',\n",
    "                        'name':\"Danish Ghani\",\n",
    "                        'education':\"MSCS\"}\n",
    "# dictionary of data will show data like an object.\n",
    "\n",
    "data.setdefault(\"country\",\"Pakistan\") # this will not generate error but also add keys and values in data variable Dict as last item\n",
    "\n",
    "pprint.pprint(data)"
   ]
  },
  {
   "cell_type": "code",
   "execution_count": 54,
   "metadata": {},
   "outputs": [
    {
     "name": "stdout",
     "output_type": "stream",
     "text": [
      "before {'fname': 'Abdul Hameed', 'name': 'Danish', 'education': 'MSCS'}\n",
      "after {'fname': 'Abdul Hameed', 'name': 'Danish Ghani', 'education': 'MSCS', 'age': 30, 'height': '6 ft'}\n"
     ]
    }
   ],
   "source": [
    "#.update() method\n",
    "from typing import Dict,  Union, Optional, Tuple,Set\n",
    "\n",
    "Key = Union[str, int]\n",
    "Value = Union [str, int, list, Dict, Tuple, Set] \n",
    "\n",
    "#          key, value  Dictionary identifier is values will be in curly brackets\n",
    "data: Dict[Key, Value] = {'fname':'Abdul Hameed',\n",
    "                        'name':\"Danish\",\n",
    "                        'education':\"MSCS\"}\n",
    "\n",
    "data1 : Dict[Key, Value] = {'name' : 'Danish Ghani',\n",
    "                            'age' : 30,\n",
    "                            'height' : '6 ft'}\n",
    "\n",
    "# If you want to update addtional data by merging data 1 keys and values you can use update method.\n",
    "\n",
    "print('before',data)\n",
    "data.update(data1) # this will update data 1 items in data\n",
    "print('after', data)"
   ]
  },
  {
   "cell_type": "code",
   "execution_count": 56,
   "metadata": {},
   "outputs": [
    {
     "data": {
      "text/html": [
       "<div>\n",
       "<style scoped>\n",
       "    .dataframe tbody tr th:only-of-type {\n",
       "        vertical-align: middle;\n",
       "    }\n",
       "\n",
       "    .dataframe tbody tr th {\n",
       "        vertical-align: top;\n",
       "    }\n",
       "\n",
       "    .dataframe thead th {\n",
       "        text-align: right;\n",
       "    }\n",
       "</style>\n",
       "<table border=\"1\" class=\"dataframe\">\n",
       "  <thead>\n",
       "    <tr style=\"text-align: right;\">\n",
       "      <th></th>\n",
       "      <th>roll no</th>\n",
       "      <th>name</th>\n",
       "      <th>education</th>\n",
       "    </tr>\n",
       "  </thead>\n",
       "  <tbody>\n",
       "    <tr>\n",
       "      <th>0</th>\n",
       "      <td>1</td>\n",
       "      <td>kamran</td>\n",
       "      <td>bachelors</td>\n",
       "    </tr>\n",
       "    <tr>\n",
       "      <th>1</th>\n",
       "      <td>2</td>\n",
       "      <td>salim</td>\n",
       "      <td>masters</td>\n",
       "    </tr>\n",
       "    <tr>\n",
       "      <th>2</th>\n",
       "      <td>3</td>\n",
       "      <td>danish</td>\n",
       "      <td>masters</td>\n",
       "    </tr>\n",
       "  </tbody>\n",
       "</table>\n",
       "</div>"
      ],
      "text/plain": [
       "   roll no    name  education\n",
       "0        1  kamran  bachelors\n",
       "1        2   salim    masters\n",
       "2        3  danish    masters"
      ]
     },
     "execution_count": 56,
     "metadata": {},
     "output_type": "execute_result"
    }
   ],
   "source": [
    "# dictionary is mainly useful for extracting data in table and manipulate etc.\n",
    "\n",
    "import pandas as pd\n",
    "from typing import Any\n",
    "\n",
    "students_data: Dict [str, list[Any]] = {'roll no':[1,2,3],\n",
    "                                        'name':['kamran', 'salim', 'danish'],\n",
    "                                        'education': ['bachelors', 'masters', 'masters']}\n",
    "# we have create variable named df\n",
    "# pd.DataFrame is used as type\n",
    "# after equals sign pd.DataFrame is used to convert dictionary data in table\n",
    "df : pd.DataFrame = pd.DataFrame(students_data)\n",
    "\n",
    "df # we have called variable here\n"
   ]
  },
  {
   "cell_type": "code",
   "execution_count": 59,
   "metadata": {},
   "outputs": [
    {
     "name": "stdout",
     "output_type": "stream",
     "text": [
      "{'color': 'green', 'points': 5}\n",
      "your color is green\n"
     ]
    }
   ],
   "source": [
    "alien_0 = {}\n",
    "\n",
    "alien_0['color'] = 'green'   # this will add new key with value of color\n",
    "alien_0['points'] = 5  # this will add new key with value of points\n",
    "print(alien_0)\n",
    "print(f'your color is {alien_0['color']}.')"
   ]
  },
  {
   "cell_type": "code",
   "execution_count": 57,
   "metadata": {},
   "outputs": [
    {
     "name": "stdout",
     "output_type": "stream",
     "text": [
      "{'color': 'green', 'points': 5, 'x-position': 0, 'y-position': 25}\n"
     ]
    }
   ],
   "source": [
    "alien_0 = {'color' : 'green', 'points':5}\n",
    "\n",
    "alien_0['x-position'] = 0   # this will add new key with value of x-position\n",
    "alien_0['y-position'] = 25  # this will add new key with value of y-position\n",
    "print(alien_0)"
   ]
  },
  {
   "cell_type": "code",
   "execution_count": 60,
   "metadata": {},
   "outputs": [
    {
     "name": "stdout",
     "output_type": "stream",
     "text": [
      "{'fname': 'Abdul Hameed', 'name': 'Danish Ghani', 'education': 'MSCS'}\n"
     ]
    }
   ],
   "source": [
    "# keys defined multiple times will update with last value\n",
    "\n",
    "from typing import Dict,  Union, Optional, Tuple,Set\n",
    "\n",
    "Key = Union[str, int]\n",
    "Value = Union [str, int, list, Dict, Tuple, Set] \n",
    "\n",
    "#          key, value  Dictionary identifier is values will be in curly brackets\n",
    "data: Dict[Key, Value] = {'fname':'Abdul Hameed',\n",
    "                        'name':\"Danish\",\n",
    "                        'education':\"MSCS\",\n",
    "                        'name':\"Danish Ghani\"}\n",
    "print(data)"
   ]
  },
  {
   "cell_type": "code",
   "execution_count": 63,
   "metadata": {},
   "outputs": [
    {
     "name": "stdout",
     "output_type": "stream",
     "text": [
      "[{'color': 'green', 'points': 5, 'speed': 'slow'},\n",
      " {'color': 'green', 'points': 5, 'speed': 'slow'},\n",
      " {'color': 'green', 'points': 5, 'speed': 'slow'},\n",
      " {'color': 'green', 'points': 5, 'speed': 'slow'},\n",
      " {'color': 'green', 'points': 5, 'speed': 'slow'}]\n"
     ]
    }
   ],
   "source": [
    "aliens : Dict [str, str] = []\n",
    "# Make 30 green aliens\n",
    "for alien in range(30):\n",
    "    new_alien = {'color': 'green', 'points': 5, 'speed': 'slow'}\n",
    "    aliens.append(new_alien)\n",
    "\n",
    "pprint.pprint(aliens[:5]) # 5 is slicing method means this will show 1st five keys and values of aliens"
   ]
  },
  {
   "cell_type": "code",
   "execution_count": null,
   "metadata": {},
   "outputs": [],
   "source": [
    "aliens : Dict [str, str] = []\n",
    "# Make 30 green aliens\n",
    "for alien in range(30):\n",
    "    new_alien = {'color': 'green', 'points': 5, 'speed': 'slow'}\n",
    "    aliens.append(new_alien)"
   ]
  }
 ],
 "metadata": {
  "kernelspec": {
   "display_name": "python12",
   "language": "python",
   "name": "python3"
  },
  "language_info": {
   "codemirror_mode": {
    "name": "ipython",
    "version": 3
   },
   "file_extension": ".py",
   "mimetype": "text/x-python",
   "name": "python",
   "nbconvert_exporter": "python",
   "pygments_lexer": "ipython3",
   "version": "3.12.0"
  }
 },
 "nbformat": 4,
 "nbformat_minor": 2
}
