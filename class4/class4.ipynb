{
 "cells": [
  {
   "cell_type": "code",
   "execution_count": 18,
   "metadata": {},
   "outputs": [
    {
     "name": "stdout",
     "output_type": "stream",
     "text": [
      "amir\n",
      "salman\n"
     ]
    },
    {
     "data": {
      "text/plain": [
       "'shahrukh'"
      ]
     },
     "metadata": {},
     "output_type": "display_data"
    },
    {
     "data": {
      "text/plain": [
       "'salman'"
      ]
     },
     "metadata": {},
     "output_type": "display_data"
    },
    {
     "data": {
      "text/plain": [
       "'amir'"
      ]
     },
     "metadata": {},
     "output_type": "display_data"
    },
    {
     "data": {
      "text/plain": [
       "'saif'"
      ]
     },
     "metadata": {},
     "output_type": "display_data"
    },
    {
     "data": {
      "text/plain": [
       "6"
      ]
     },
     "metadata": {},
     "output_type": "display_data"
    }
   ],
   "source": [
    "# positive index\n",
    "#           0           1       2       3\n",
    "names = ['shahrukh', 'salman', 'amir','saif',6]\n",
    "#           -4         -3       -2     -1\n",
    "# negative index\n",
    "\n",
    "# there are two ways to to print salman.\n",
    "print(names[-3])\n",
    "print(names[1])\n",
    "# to check all values in array\n",
    "display(*names)\n"
   ]
  },
  {
   "cell_type": "code",
   "execution_count": 19,
   "metadata": {},
   "outputs": [
    {
     "name": "stdout",
     "output_type": "stream",
     "text": [
      "FOUNDER OF PIAIC IS SIR ZIA.\n",
      "<class 'list'>\n",
      "<class 'str'>\n"
     ]
    }
   ],
   "source": [
    "from typing import Any\n",
    "\n",
    "names: list [Any] = ['sir zia','shahrukh', 'salman', 'amir','saif', 6, 2.5]\n",
    "# here number and integers were added but not generating error as type Any has been used.\n",
    "print(f'Founder of PIAIC is {names[0].upper()}.'.upper())\n",
    "\n",
    "# type of array\n",
    "print(type(names))\n",
    "\n",
    "# type of element in array will be different\n",
    "print(type (names[1]))"
   ]
  },
  {
   "cell_type": "markdown",
   "metadata": {},
   "source": [
    "# List function"
   ]
  },
  {
   "cell_type": "code",
   "execution_count": 20,
   "metadata": {},
   "outputs": [
    {
     "name": "stdout",
     "output_type": "stream",
     "text": [
      "['a', 'b', 'c', 'd', 'e', 'f', 'g', 'h', 'i', 'j', 'k', 'l', 'm', 'n', 'o', 'p', 'q', 'r', 's', 't', 'u', 'v', 'w', 'x', 'y', 'z']\n"
     ]
    }
   ],
   "source": [
    "# You can create array by using list function\n",
    "char : list[str] = list(\"abcdefghijklmnopqrstuvwxyz\")\n",
    "print(char)"
   ]
  },
  {
   "cell_type": "markdown",
   "metadata": {},
   "source": [
    "# Slicing\n",
    "* Slicing always executed from left to right."
   ]
  },
  {
   "cell_type": "code",
   "execution_count": 32,
   "metadata": {},
   "outputs": [
    {
     "name": "stdout",
     "output_type": "stream",
     "text": [
      "['a', 'b', 'c']\n",
      "['a', 'b', 'c']\n",
      "['a', 'b', 'c']\n",
      "['a', 'b', 'c']\n",
      "['d', 'e', 'f']\n"
     ]
    }
   ],
   "source": [
    "char : list [str] = ['a', 'b', 'c', 'd', 'e', 'f', 'g', 'h', 'i', 'j', 'k', 'l', 'm', 'n', 'o', 'p', 'q', 'r', 's', 't', 'u', 'v', 'w', 'x', 'y', 'z']\n",
    "# if you want to  print 1st 3 elements of array\n",
    "print(char[0:3]) # this will print a, b, c only and ignre index 3 i.e. d\n",
    "print(char[:3]) # default value of start will be \"0\" you can type it like this as well\n",
    "print(char[0:3:1]) # default value of step will be \"1\" this will print a, b, c as well.\n",
    "print(char[-26:-23]) # elements can be extracted through negative index, you can also print it like that as well.\n",
    "\n",
    "print(char[3:6]) # this will print d, e, f only and ignre index 6 i.e. g"
   ]
  },
  {
   "cell_type": "code",
   "execution_count": 34,
   "metadata": {},
   "outputs": [
    {
     "name": "stdout",
     "output_type": "stream",
     "text": [
      "['a', 'd', 'g']\n"
     ]
    }
   ],
   "source": [
    "char : list [str] = ['a', 'b', 'c', 'd', 'e', 'f', 'g', 'h', 'i', 'j', 'k', 'l', 'm', 'n', 'o', 'p', 'q', 'r', 's', 't', 'u', 'v', 'w', 'x', 'y', 'z']\n",
    "print(char[0:8:3]) # started with 0 index i.e. a\n",
    "# stoped at h i.e. index 8-1 = till 7th index i.e. h\n",
    "# count / print every 3rd character b/w a to h i.e. 1st character is a than system skips 2 characters\n",
    "# b and c, now cater d than again skip e and f than cater g than h will be skip and code completed"
   ]
  },
  {
   "cell_type": "code",
   "execution_count": 35,
   "metadata": {},
   "outputs": [
    {
     "name": "stdout",
     "output_type": "stream",
     "text": [
      "['a', 'b', 'c', 'd', 'e', 'f', 'g', 'h', 'i', 'j', 'k', 'l', 'm', 'n', 'o', 'p', 'q', 'r', 's', 't', 'u', 'v', 'w', 'x', 'y', 'z']\n"
     ]
    }
   ],
   "source": [
    "char : list [str] = ['a', 'b', 'c', 'd', 'e', 'f', 'g', 'h', 'i', 'j', 'k', 'l', 'm', 'n', 'o', 'p', 'q', 'r', 's', 't', 'u', 'v', 'w', 'x', 'y', 'z']\n",
    "print(char[::])  # this will show all elements of array"
   ]
  },
  {
   "cell_type": "code",
   "execution_count": 36,
   "metadata": {},
   "outputs": [
    {
     "name": "stdout",
     "output_type": "stream",
     "text": [
      "['a', 'd', 'g', 'j', 'm', 'p', 's', 'v', 'y']\n"
     ]
    }
   ],
   "source": [
    "char : list [str] = ['a', 'b', 'c', 'd', 'e', 'f', 'g', 'h', 'i', 'j', 'k', 'l', 'm', 'n', 'o', 'p', 'q', 'r', 's', 't', 'u', 'v', 'w', 'x', 'y', 'z']\n",
    "print(char[::3]) # this will print every third character"
   ]
  },
  {
   "cell_type": "code",
   "execution_count": 37,
   "metadata": {},
   "outputs": [
    {
     "name": "stdout",
     "output_type": "stream",
     "text": [
      "['z', 'y', 'x', 'w', 'v', 'u', 't', 's', 'r', 'q', 'p', 'o', 'n', 'm', 'l', 'k', 'j', 'i', 'h', 'g', 'f', 'e', 'd', 'c', 'b', 'a']\n"
     ]
    }
   ],
   "source": [
    "char : list [str] = ['a', 'b', 'c', 'd', 'e', 'f', 'g', 'h', 'i', 'j', 'k', 'l', 'm', 'n', 'o', 'p', 'q', 'r', 's', 't', 'u', 'v', 'w', 'x', 'y', 'z']\n",
    "print(char[::-1]) # this will print from right to left"
   ]
  },
  {
   "cell_type": "code",
   "execution_count": 38,
   "metadata": {},
   "outputs": [
    {
     "name": "stdout",
     "output_type": "stream",
     "text": [
      "['d', 'e', 'f', 'g']\n"
     ]
    }
   ],
   "source": [
    "#                     0    1   2    3    4    5    6     7    8   9\n",
    "char : list [str] = ['a', 'b', 'c', 'd', 'e', 'f', 'g', 'h', 'i', 'j']\n",
    "#                                              -5  -4    -3  -2    -1\n",
    "print(char[3:-3]) # this will print [d, e, f, g]"
   ]
  },
  {
   "cell_type": "code",
   "execution_count": 41,
   "metadata": {},
   "outputs": [
    {
     "name": "stdout",
     "output_type": "stream",
     "text": [
      "[]\n",
      "['i', 'h', 'g']\n"
     ]
    }
   ],
   "source": [
    "#                     0    1   2    3    4    5    6     7    8   9\n",
    "char : list [str] = ['a', 'b', 'c', 'd', 'e', 'f', 'g', 'h', 'i', 'j']\n",
    "#                    -10  -9   -8   -7   -6   -5   -4   -3   -2    -1\n",
    "print(char[-2:-5]) # this will print empty array as by default slice flows from left to right\n",
    "# so if slicing start from -2 and goes to right side will not find -5\n",
    "\n",
    "# to get the values you should flow slicing from right to left for this you will type.\n",
    "print(char[-2:-5:-1]) # this will start print from -2 i.e. i to -4 i.e. g\n",
    "    # answer will be ['i', 'h', 'g']"
   ]
  },
  {
   "cell_type": "code",
   "execution_count": 45,
   "metadata": {},
   "outputs": [
    {
     "name": "stdout",
     "output_type": "stream",
     "text": [
      "['shahrukh', 'salman', 'amir', 'saif', 6, True]\n",
      "['shahrukh khan', 'salman', 'amir', 'saif', 6, True]\n",
      "['shahrukh khan', 'salman', 'amir', 'saif', True]\n"
     ]
    }
   ],
   "source": [
    "# positive index\n",
    "#           0           1       2       3    4   5\n",
    "names = ['shahrukh', 'salman', 'amir','saif',6, True]\n",
    "#           -6          -5      -4     -3   -2   -1\n",
    "# negative index\n",
    "print(names)\n",
    "\n",
    "# you can update the values in array by using index like mentioned below\n",
    "\n",
    "names[0] = \"shahrukh khan\"\n",
    "print(names)\n",
    "\n"
   ]
  },
  {
   "cell_type": "markdown",
   "metadata": {},
   "source": [
    "# \"Del\" and \"clear\" method"
   ]
  },
  {
   "cell_type": "code",
   "execution_count": 63,
   "metadata": {},
   "outputs": [
    {
     "name": "stdout",
     "output_type": "stream",
     "text": [
      "['shahrukh', 'salman', 'amir', 'saif', True]\n"
     ]
    },
    {
     "ename": "NameError",
     "evalue": "name 'names' is not defined",
     "output_type": "error",
     "traceback": [
      "\u001b[1;31m---------------------------------------------------------------------------\u001b[0m",
      "\u001b[1;31mNameError\u001b[0m                                 Traceback (most recent call last)",
      "\u001b[1;32md:\\coding\\Github\\Python\\class4\\class4.ipynb Cell 15\u001b[0m line \u001b[0;36m1\n\u001b[0;32m     <a href='vscode-notebook-cell:/d%3A/coding/Github/Python/class4/class4.ipynb#X35sZmlsZQ%3D%3D?line=11'>12</a>\u001b[0m \u001b[39m# to completely remove any variable\u001b[39;00m\n\u001b[0;32m     <a href='vscode-notebook-cell:/d%3A/coding/Github/Python/class4/class4.ipynb#X35sZmlsZQ%3D%3D?line=12'>13</a>\u001b[0m \u001b[39mdel\u001b[39;00m names\n\u001b[1;32m---> <a href='vscode-notebook-cell:/d%3A/coding/Github/Python/class4/class4.ipynb#X35sZmlsZQ%3D%3D?line=13'>14</a>\u001b[0m \u001b[39mprint\u001b[39m(names)\n",
      "\u001b[1;31mNameError\u001b[0m: name 'names' is not defined"
     ]
    }
   ],
   "source": [
    "# positive index\n",
    "#           0           1       2       3    4   5\n",
    "names = ['shahrukh', 'salman', 'amir','saif',6, True]\n",
    "#           -6          -5      -4     -3   -2   -1\n",
    "# negative index\n",
    "\n",
    "# to delete any element from array i.e. if you want to delete\n",
    "\n",
    "del names[4]\n",
    "print(names)\n",
    "\n",
    "# to completely remove any variable\n",
    "del names\n",
    "print(names) # error will be generated as names variable is completely deleted"
   ]
  },
  {
   "cell_type": "code",
   "execution_count": 64,
   "metadata": {},
   "outputs": [
    {
     "name": "stdout",
     "output_type": "stream",
     "text": [
      "[]\n"
     ]
    }
   ],
   "source": [
    "# positive index\n",
    "#           0           1       2       3    4   5\n",
    "names = ['shahrukh', 'salman', 'amir','saif',6, True]\n",
    "#           -6          -5      -4     -3   -2   -1\n",
    "# negative index\n",
    "\n",
    "# to remove values from variable\n",
    "names.clear()\n",
    "\n",
    "print(names) # Now this will show empty array"
   ]
  },
  {
   "cell_type": "markdown",
   "metadata": {},
   "source": [
    "# \"return\" and \"non return\" function"
   ]
  },
  {
   "cell_type": "code",
   "execution_count": 46,
   "metadata": {},
   "outputs": [
    {
     "name": "stdout",
     "output_type": "stream",
     "text": [
      "Pakistan\n",
      "None\n"
     ]
    }
   ],
   "source": [
    "# non-return function \n",
    "a : str = print(\"Pakistan\")\n",
    "print(a)"
   ]
  },
  {
   "cell_type": "markdown",
   "metadata": {},
   "source": [
    "# POP method : for removal of element from array."
   ]
  },
  {
   "cell_type": "code",
   "execution_count": 54,
   "metadata": {},
   "outputs": [
    {
     "name": "stdout",
     "output_type": "stream",
     "text": [
      "True\n",
      "['shahrukh', 'salman', 'amir', 'saif', 6]\n",
      "shahrukh\n",
      "['salman', 'amir', 'saif', 6]\n"
     ]
    }
   ],
   "source": [
    "# positive index\n",
    "#           0           1       2       3    4   5\n",
    "names = ['shahrukh', 'salman', 'amir','saif',6, True]\n",
    "#           -6          -5      -4     -3   -2   -1\n",
    "# negative index\n",
    "\n",
    "a : str = names.pop() # last element of \"names\" i.e. \"True\" is removed by using pop method and stored in \"a\"\n",
    "print(a)\n",
    "print(names)\n",
    "\n",
    "b : str = names.pop(0)\n",
    "print(b)\n",
    "print(names)"
   ]
  },
  {
   "cell_type": "markdown",
   "metadata": {},
   "source": [
    "# Append Methond : will always insert element as last value in array"
   ]
  },
  {
   "cell_type": "code",
   "execution_count": 60,
   "metadata": {},
   "outputs": [
    {
     "name": "stdout",
     "output_type": "stream",
     "text": [
      "['Nasir']\n",
      "['Nasir', 'Zohaib']\n",
      "['Nasir', 'Zohaib', 'Saleem']\n"
     ]
    }
   ],
   "source": [
    "names : list [str] = []\n",
    "\n",
    "names.append(\"Nasir\")\n",
    "print(names)\n",
    "\n",
    "\n",
    "names.append(\"Zohaib\")\n",
    "print(names)\n",
    "\n",
    "\n",
    "names.append(\"Saleem\")\n",
    "print(names)"
   ]
  },
  {
   "cell_type": "markdown",
   "metadata": {},
   "source": [
    "# Inser method: this will insert value in any index"
   ]
  },
  {
   "cell_type": "code",
   "execution_count": 61,
   "metadata": {},
   "outputs": [
    {
     "name": "stdout",
     "output_type": "stream",
     "text": [
      "['Nasir', 'Zohaib', 'Saleem']\n",
      "['Nasir', 'Kamran', 'Zohaib', 'Saleem']\n"
     ]
    }
   ],
   "source": [
    "names: list [str] = ['Nasir', 'Zohaib', 'Saleem']\n",
    "print(names)\n",
    "\n",
    "names.insert(1,\"Kamran\") # this will update \"Kamran\" on index 1 and move other values to next index\n",
    "print(names)"
   ]
  },
  {
   "cell_type": "markdown",
   "metadata": {},
   "source": [
    "# Copy method: requirement"
   ]
  },
  {
   "cell_type": "code",
   "execution_count": 67,
   "metadata": {},
   "outputs": [
    {
     "name": "stdout",
     "output_type": "stream",
     "text": [
      "['a', 'b', 'c']\n",
      "['a', 'b', 'c']\n",
      "['Pakistan', 'b', 'c']\n",
      "['Pakistan', 'b', 'c']\n"
     ]
    }
   ],
   "source": [
    "a : list [str] = ['a', 'b', 'c']\n",
    "b = a\n",
    "\n",
    "print(a)\n",
    "print(b)\n",
    "\n",
    "# When not using copy method\n",
    "\n",
    "b[0] = 'Pakistan' # this will impact b but also a as well\n",
    "print(a) # python has updated the value in \"a\" variable as well\n",
    "print(b)\n"
   ]
  },
  {
   "cell_type": "code",
   "execution_count": 71,
   "metadata": {},
   "outputs": [
    {
     "name": "stdout",
     "output_type": "stream",
     "text": [
      "['a', 'b', 'c'] a\n",
      "['a', 'b', 'c'] b\n",
      "['a', 'b', 'c'] a\n",
      "['Pakistan', 'b', 'c'] b\n"
     ]
    }
   ],
   "source": [
    "# to prevent above issue copy method will be used\n",
    "# incase if any variable updated will not impact dependent variable\n",
    "\n",
    "a : list [str] = ['a', 'b', 'c']\n",
    "b = a.copy()\n",
    "\n",
    "print(a, 'a')\n",
    "print(b, 'b')\n",
    "\n",
    "# When used copy method\n",
    "\n",
    "b[0] = 'Pakistan' # this will impact b only and a will remain same\n",
    "print(a, 'a') \n",
    "print(b, 'b')"
   ]
  },
  {
   "cell_type": "markdown",
   "metadata": {},
   "source": [
    "# Count method: will count which characters appearing in an array."
   ]
  },
  {
   "cell_type": "code",
   "execution_count": 76,
   "metadata": {},
   "outputs": [
    {
     "name": "stdout",
     "output_type": "stream",
     "text": [
      "4\n",
      "1\n",
      "2\n"
     ]
    }
   ],
   "source": [
    "names : list [str] = ['a', 'a', 'a', 'a', 'b', 'c', 'c']\n",
    "print(names.count('a'))\n",
    "print(names.count('b'))\n",
    "print(names.count('c'))"
   ]
  },
  {
   "cell_type": "markdown",
   "metadata": {},
   "source": [
    "# Extend method : add the values in array from values of any existing array"
   ]
  },
  {
   "cell_type": "code",
   "execution_count": 79,
   "metadata": {},
   "outputs": [
    {
     "name": "stdout",
     "output_type": "stream",
     "text": [
      "['Salim', 'Abdullah', 'Hakeem']\n",
      "['Salim', 'Abdullah', 'Hakeem', ['Asim', 'Bashir', 'Jibran']]\n"
     ]
    }
   ],
   "source": [
    "# adding values through append method\n",
    "\n",
    "fMembers: list [str] = [\"Salim\", 'Abdullah', 'Hakeem']\n",
    "print(fMembers)\n",
    "\n",
    "nMembers : list [str] = ['Asim', 'Bashir', 'Jibran']\n",
    "\n",
    "fMembers.append(nMembers)\n",
    "print(fMembers)"
   ]
  },
  {
   "cell_type": "code",
   "execution_count": 80,
   "metadata": {},
   "outputs": [
    {
     "name": "stdout",
     "output_type": "stream",
     "text": [
      "['Salim', 'Abdullah', 'Hakeem']\n",
      "['Salim', 'Abdullah', 'Hakeem', 'Asim', 'Bashir', 'Jibran']\n"
     ]
    }
   ],
   "source": [
    "# to prevent above issue use extend method\n",
    "\n",
    "fMembers: list [str] = [\"Salim\", 'Abdullah', 'Hakeem']\n",
    "print(fMembers)\n",
    "\n",
    "nMembers : list [str] = ['Asim', 'Bashir', 'Jibran']\n",
    "\n",
    "fMembers.extend(nMembers)\n",
    "print(fMembers)"
   ]
  },
  {
   "cell_type": "markdown",
   "metadata": {},
   "source": [
    "# Remove and index method"
   ]
  },
  {
   "cell_type": "code",
   "execution_count": 88,
   "metadata": {},
   "outputs": [
    {
     "name": "stdout",
     "output_type": "stream",
     "text": [
      "['Salim', 'Abdullah', 'Hakeem', 'Asim', 'Bashir', 'Jibran', 'Salim']\n",
      "2\n",
      "['Salim', 'Hakeem', 'Asim', 'Bashir', 'Jibran', 'Salim']\n",
      "1\n",
      "0\n",
      "5\n"
     ]
    }
   ],
   "source": [
    "# to remove any value by searching through value instead of index use \"remove\" method\n",
    "names: list [str] = ['Salim', 'Abdullah', 'Hakeem', 'Asim', 'Bashir', 'Jibran','Salim']\n",
    "print(names)\n",
    "print(names.index('Hakeem'))\n",
    "\n",
    "names.remove('Abdullah')\n",
    "print(names)\n",
    "print(names.index('Hakeem'))\n",
    "\n",
    "# Index method will always search first occurrance of value\n",
    "print(names.index('Salim')) # this will return answer as 0\n",
    "print(names.index('Salim',1)) # this will return answer as 5"
   ]
  },
  {
   "cell_type": "markdown",
   "metadata": {},
   "source": [
    "# Reverse Method, Sort method, Len method"
   ]
  },
  {
   "cell_type": "code",
   "execution_count": 94,
   "metadata": {},
   "outputs": [
    {
     "name": "stdout",
     "output_type": "stream",
     "text": [
      "['1', '2', '3', '4', '5', '6', '7', '8', '9']\n",
      "after reverse ['9', '8', '7', '6', '5', '4', '3', '2', '1']\n"
     ]
    }
   ],
   "source": [
    "names : list [str] = list('123456789')\n",
    "print(names)\n",
    "\n",
    "names.reverse()\n",
    "print('after reverse',names)"
   ]
  },
  {
   "cell_type": "code",
   "execution_count": 99,
   "metadata": {},
   "outputs": [
    {
     "name": "stdout",
     "output_type": "stream",
     "text": [
      "['1', '2', '3', '5', '0', '6', '7', '4', '8', '9']\n",
      "after sort ['0', '1', '2', '3', '4', '5', '6', '7', '8', '9']\n",
      "descending order ['9', '8', '7', '6', '5', '4', '3', '2', '1', '0']\n"
     ]
    },
    {
     "data": {
      "text/plain": [
       "10"
      ]
     },
     "execution_count": 99,
     "metadata": {},
     "output_type": "execute_result"
    }
   ],
   "source": [
    "names : list [str] = list('1235067489')\n",
    "print(names)\n",
    "\n",
    "# to sort any unsorted values array in ascending order\n",
    "names.sort()\n",
    "print('after sort',names)\n",
    "\n",
    "# to sort any unsorted values array in descending order\n",
    "names.sort(reverse=True)\n",
    "print(\"descending order\",names)\n",
    "\n",
    "# to check how many values are available in array use len method\n",
    "len(names)"
   ]
  }
 ],
 "metadata": {
  "kernelspec": {
   "display_name": "python12",
   "language": "python",
   "name": "python3"
  },
  "language_info": {
   "codemirror_mode": {
    "name": "ipython",
    "version": 3
   },
   "file_extension": ".py",
   "mimetype": "text/x-python",
   "name": "python",
   "nbconvert_exporter": "python",
   "pygments_lexer": "ipython3",
   "version": "3.12.0"
  }
 },
 "nbformat": 4,
 "nbformat_minor": 2
}
