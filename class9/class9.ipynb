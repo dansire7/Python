{
 "cells": [
  {
   "cell_type": "markdown",
   "metadata": {},
   "source": [
    "# loop & input by user\n",
    "* while\n",
    "* for\n",
    "* controls\n",
    "    * break\n",
    "    * continue\n",
    "    * pass\n",
    "* input with input function\n",
    "* input from console\n",
    "\n",
    "# Loop works on iterative data types\n",
    "* list\n",
    "* dictionary\n",
    "* tuple\n",
    "* string"
   ]
  },
  {
   "cell_type": "code",
   "execution_count": 1,
   "metadata": {},
   "outputs": [
    {
     "name": "stdout",
     "output_type": "stream",
     "text": [
      "1\n",
      "2\n",
      "3\n",
      "4\n",
      "5\n"
     ]
    }
   ],
   "source": [
    "# Iterative data type - list\n",
    "l1 : list[int] = [1,2,3,4,5]\n",
    "for n in l1:\n",
    "    print(n)"
   ]
  },
  {
   "cell_type": "code",
   "execution_count": 2,
   "metadata": {},
   "outputs": [
    {
     "name": "stdout",
     "output_type": "stream",
     "text": [
      "1\n",
      "2\n",
      "3\n",
      "4\n",
      "5\n",
      "6\n"
     ]
    }
   ],
   "source": [
    "from typing import Tuple\n",
    "\n",
    "# Iterative data type - tuple\n",
    "t1 : Tuple [int] = (1,2,3,4,5,6)\n",
    "for n1 in t1:\n",
    "    print(n1)"
   ]
  },
  {
   "cell_type": "code",
   "execution_count": 4,
   "metadata": {},
   "outputs": [
    {
     "name": "stdout",
     "output_type": "stream",
     "text": [
      "P\n",
      "a\n",
      "k\n",
      "i\n",
      "s\n",
      "t\n",
      "a\n",
      "n\n"
     ]
    }
   ],
   "source": [
    "# Iterative data type - str\n",
    "s1 : str = 'Pakistan'\n",
    "\n",
    "for n1 in s1:\n",
    "    print(n1)"
   ]
  },
  {
   "cell_type": "code",
   "execution_count": 9,
   "metadata": {},
   "outputs": [
    {
     "name": "stdout",
     "output_type": "stream",
     "text": [
      "key is name and value is Danish\n",
      "key is fullname and value is Danish Ghani\n"
     ]
    }
   ],
   "source": [
    "# iterative data type - Dictionary\n",
    "d1 : dict [str, str] = {'name' : 'Danish', 'fullname' : \"Danish Ghani\"}\n",
    "for n1 in d1:\n",
    "    print(f'key is {n1} and value is {d1[n1]}')"
   ]
  },
  {
   "cell_type": "code",
   "execution_count": 8,
   "metadata": {},
   "outputs": [
    {
     "name": "stdout",
     "output_type": "stream",
     "text": [
      "1\n",
      "2\n",
      "3\n",
      "4\n"
     ]
    }
   ],
   "source": [
    "s1 : set[int] = {1,2,3,2,2,3,4}\n",
    "\n",
    "for n1 in s1:\n",
    "    print(n1)\n"
   ]
  },
  {
   "cell_type": "markdown",
   "metadata": {},
   "source": [
    "# Input from user\n",
    "* input function\n",
    "    * default type is string = string\n",
    "* sys.argv (for console input in abc.py file)\n",
    "    * default type = object"
   ]
  },
  {
   "cell_type": "code",
   "execution_count": 12,
   "metadata": {},
   "outputs": [
    {
     "name": "stdout",
     "output_type": "stream",
     "text": [
      "How are your Mr. Danish?\n",
      "<class 'str'>\n"
     ]
    }
   ],
   "source": [
    "# Input function value will always be in string\n",
    "\n",
    "a = input(\"Please enter your name: \\t\")\n",
    "print(f'How are your Mr. {a}?')\n",
    "print(type(a))"
   ]
  },
  {
   "cell_type": "code",
   "execution_count": 13,
   "metadata": {},
   "outputs": [
    {
     "name": "stdout",
     "output_type": "stream",
     "text": [
      "[('a', 1, 'w'), ('b', 2, 'x'), ('c', 3, 'y'), ('d', 4, 'z')]\n"
     ]
    }
   ],
   "source": [
    "# zip\n",
    "l1 = ['a', 'b', 'c', 'd']\n",
    "l2 = [1,2,3,4]\n",
    "l3 = ['w','x','y','z']\n",
    "\n",
    "l = list(zip(l1, l2, l3))\n",
    "print(l)"
   ]
  },
  {
   "cell_type": "code",
   "execution_count": 16,
   "metadata": {},
   "outputs": [
    {
     "name": "stdout",
     "output_type": "stream",
     "text": [
      "[('a', 1, 'w'), ('b', 2, 'x'), ('c', 3, 'y'), ('d', 4, 'z')]\n",
      "Hey! this is l1 : a, l2: 1, l3: w\n",
      "Hey! this is l1 : b, l2: 2, l3: x\n",
      "Hey! this is l1 : c, l2: 3, l3: y\n",
      "Hey! this is l1 : d, l2: 4, l3: z\n"
     ]
    }
   ],
   "source": [
    "# zip\n",
    "l1 = ['a', 'b', 'c', 'd']\n",
    "l2 = [1,2,3,4]\n",
    "l3 = ['w','x','y','z']\n",
    "\n",
    "l = list(zip(l1, l2, l3))\n",
    "print(l)\n",
    "\n",
    "# seperate all values with the help of for loop\n",
    "for n1, n2, n3 in l:\n",
    "    print(f'Hey! this is l1 : {n1}, l2: {n2}, l3: {n3}')\n",
    "    "
   ]
  },
  {
   "cell_type": "markdown",
   "metadata": {},
   "source": [
    "# while loop"
   ]
  },
  {
   "cell_type": "code",
   "execution_count": 17,
   "metadata": {},
   "outputs": [
    {
     "name": "stdout",
     "output_type": "stream",
     "text": [
      "current no is 1\n",
      "current no is 2\n",
      "current no is 3\n",
      "current no is 4\n",
      "current no is 5\n",
      "current no is 6\n",
      "current no is 7\n",
      "current no is 8\n",
      "current no is 9\n"
     ]
    }
   ],
   "source": [
    "# while loop with break\n",
    "flag : bool = True\n",
    "cur_no: int =  1\n",
    "\n",
    "while flag:\n",
    "    print(f'current no is {cur_no}')\n",
    "\n",
    "    cur_no +=1\n",
    "    if cur_no == 10:\n",
    "        break"
   ]
  },
  {
   "cell_type": "code",
   "execution_count": 19,
   "metadata": {},
   "outputs": [
    {
     "name": "stdout",
     "output_type": "stream",
     "text": [
      "index no is 0 and value is 100\n",
      "index no is 1 and value is 200\n",
      "index no is 2 and value is 300\n"
     ]
    }
   ],
   "source": [
    "# while loop with false argument\n",
    "\n",
    "l1 : list[int] = [100,200,300]\n",
    "index : int =  0\n",
    "\n",
    "while index < len(l1):  # this will run untill the argument will become false\n",
    "    print(f'index no is {index} and value is {l1[index]}')\n",
    "\n",
    "    index +=1"
   ]
  },
  {
   "cell_type": "code",
   "execution_count": 23,
   "metadata": {},
   "outputs": [
    {
     "name": "stdout",
     "output_type": "stream",
     "text": [
      "To stop the program write 'quit' or 'exit'\n",
      "To stop the program write 'quit' or 'exit'\n",
      "To stop the program write 'quit' or 'exit'\n",
      "To stop the program write 'quit' or 'exit'\n",
      "To stop the program write 'quit' or 'exit'\n"
     ]
    },
    {
     "data": {
      "text/plain": [
       "[{'name': 'a1', 'education': 'a2'},\n",
       " {'name': 'b1', 'education': 'b2'},\n",
       " {'name': 'c1', 'education': 'c2'},\n",
       " {'name': '1', 'education': '2'}]"
      ]
     },
     "metadata": {},
     "output_type": "display_data"
    }
   ],
   "source": [
    "data : list[dict[str]] = []\n",
    "flag : bool = True\n",
    "exit : list[str] = ['exit', 'quit']\n",
    "\n",
    "while flag:\n",
    "    print(\"To stop the program write 'quit' or 'exit'\")\n",
    "    name : str = input('What is your name?')\n",
    "    education : str = input('What is your education?')\n",
    "\n",
    "    if name in exit or education in exit:  # if is used once\n",
    "        break\n",
    "    data.append({'name': name,'education':education})\n",
    "\n",
    "display(data)"
   ]
  },
  {
   "cell_type": "code",
   "execution_count": 31,
   "metadata": {},
   "outputs": [
    {
     "name": "stdout",
     "output_type": "stream",
     "text": [
      "2 x 1 = 2\n"
     ]
    }
   ],
   "source": [
    "# to check the loop for testing break is used if it is working fine.\n",
    "\n",
    "for i in v:\n",
    "    print(f'2 x {i} = {i*2}')\n",
    "    break"
   ]
  },
  {
   "cell_type": "code",
   "execution_count": 32,
   "metadata": {},
   "outputs": [
    {
     "name": "stdout",
     "output_type": "stream",
     "text": [
      "2 x 1 = 2\n",
      "2 x 2 = 4\n",
      "2 x 3 = 6\n",
      "2 x 4 = 8\n",
      "2 x 5 = 10\n",
      "2 x 6 = 12\n",
      "2 x 7 = 14\n",
      "2 x 8 = 16\n",
      "2 x 9 = 18\n",
      "2 x 10 = 20\n"
     ]
    }
   ],
   "source": [
    "# to check the loop for testing break is used if it is working fine.\n",
    "\n",
    "for i in range(1,11):\n",
    "    print(f'2 x {i} = {i*2}')\n",
    "    # break"
   ]
  },
  {
   "cell_type": "code",
   "execution_count": 33,
   "metadata": {},
   "outputs": [
    {
     "name": "stdout",
     "output_type": "stream",
     "text": [
      "1\n",
      "2\n",
      "3\n",
      "4\n",
      "6\n",
      "7\n",
      "8\n",
      "9\n",
      "10\n"
     ]
    }
   ],
   "source": [
    "# Use \"continue\" in loop for skipping any value\n",
    "\n",
    "for i  in range(1,11): # this will create range of 1 to 10\n",
    "    if i == 5:      # this will skip when i will be equals to 5\n",
    "        continue    # and will be continued again\n",
    "    print(i)"
   ]
  },
  {
   "cell_type": "code",
   "execution_count": 36,
   "metadata": {},
   "outputs": [],
   "source": [
    "# \"pass\" control in loop\n",
    "\n",
    "for i in range(1,10):\n",
    "    pass # if you have not decided yet what to process you can use pass control and prgram will be continued or else error will be generated."
   ]
  },
  {
   "cell_type": "code",
   "execution_count": 38,
   "metadata": {},
   "outputs": [],
   "source": [
    "# pass control in function\n",
    "\n",
    "def abc(a: int, b: int) -> int:\n",
    "    pass"
   ]
  },
  {
   "cell_type": "code",
   "execution_count": 41,
   "metadata": {},
   "outputs": [
    {
     "name": "stdout",
     "output_type": "stream",
     "text": [
      "2\n",
      "4\n",
      "6\n",
      "8\n",
      "10\n",
      "12\n",
      "14\n",
      "16\n",
      "18\n",
      "20\n",
      "22\n",
      "24\n",
      "26\n",
      "28\n",
      "30\n"
     ]
    }
   ],
   "source": [
    "# How to extract even and odds\n",
    "\n",
    "for i in range(1,31):\n",
    "  if i % 2 == 0:\n",
    "    print(i)"
   ]
  },
  {
   "cell_type": "code",
   "execution_count": 43,
   "metadata": {},
   "outputs": [
    {
     "data": {
      "text/plain": [
       "[2, 4, 6, 8, 10, 12, 14, 16, 18, 20, 22, 24, 26, 28, 30]"
      ]
     },
     "execution_count": 43,
     "metadata": {},
     "output_type": "execute_result"
    }
   ],
   "source": [
    "# How to extract even and odds\n",
    "\n",
    "[i for i in range(1,31) if i % 2 == 0]\n"
   ]
  },
  {
   "cell_type": "code",
   "execution_count": 1,
   "metadata": {},
   "outputs": [
    {
     "name": "stdout",
     "output_type": "stream",
     "text": [
      "a\n",
      "a\n",
      "b\n",
      "quit\n"
     ]
    }
   ],
   "source": [
    "msg = \"Please write whatever you want and press enter key\"\n",
    "msg += \"\\ntype quit if you want to quit: \\t\"\n",
    "u_inp = \"\"\n",
    "\n",
    "while u_inp != 'quit':\n",
    "    u_inp = input(msg)\n",
    "    print(u_inp)"
   ]
  }
 ],
 "metadata": {
  "kernelspec": {
   "display_name": "python12",
   "language": "python",
   "name": "python3"
  },
  "language_info": {
   "codemirror_mode": {
    "name": "ipython",
    "version": 3
   },
   "file_extension": ".py",
   "mimetype": "text/x-python",
   "name": "python",
   "nbconvert_exporter": "python",
   "pygments_lexer": "ipython3",
   "version": "3.12.0"
  }
 },
 "nbformat": 4,
 "nbformat_minor": 2
}
